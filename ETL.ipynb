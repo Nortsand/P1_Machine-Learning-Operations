{
 "cells": [
  {
   "cell_type": "markdown",
   "metadata": {},
   "source": [
    "## ETL"
   ]
  },
  {
   "cell_type": "code",
   "execution_count": 1,
   "metadata": {},
   "outputs": [],
   "source": [
    "#Importar librerías necesarias\n",
    "import os\n",
    "import ast\n",
    "import pandas as pd"
   ]
  },
  {
   "cell_type": "code",
   "execution_count": 2,
   "metadata": {},
   "outputs": [],
   "source": [
    "#Carga del dataset en formato json\n",
    "\n",
    "rows = []\n",
    "with open(\"data\\steam_games.json\") as f:\n",
    "    for line in f.readlines():\n",
    "        rows.append(ast.literal_eval(line))\n",
    "\n",
    "df = pd.DataFrame(rows)"
   ]
  },
  {
   "cell_type": "code",
   "execution_count": 3,
   "metadata": {},
   "outputs": [
    {
     "data": {
      "text/html": [
       "<div>\n",
       "<style scoped>\n",
       "    .dataframe tbody tr th:only-of-type {\n",
       "        vertical-align: middle;\n",
       "    }\n",
       "\n",
       "    .dataframe tbody tr th {\n",
       "        vertical-align: top;\n",
       "    }\n",
       "\n",
       "    .dataframe thead th {\n",
       "        text-align: right;\n",
       "    }\n",
       "</style>\n",
       "<table border=\"1\" class=\"dataframe\">\n",
       "  <thead>\n",
       "    <tr style=\"text-align: right;\">\n",
       "      <th></th>\n",
       "      <th>publisher</th>\n",
       "      <th>genres</th>\n",
       "      <th>app_name</th>\n",
       "      <th>title</th>\n",
       "      <th>url</th>\n",
       "      <th>release_date</th>\n",
       "      <th>tags</th>\n",
       "      <th>discount_price</th>\n",
       "      <th>reviews_url</th>\n",
       "      <th>specs</th>\n",
       "      <th>price</th>\n",
       "      <th>early_access</th>\n",
       "      <th>id</th>\n",
       "      <th>developer</th>\n",
       "      <th>sentiment</th>\n",
       "      <th>metascore</th>\n",
       "    </tr>\n",
       "  </thead>\n",
       "  <tbody>\n",
       "    <tr>\n",
       "      <th>0</th>\n",
       "      <td>Kotoshiro</td>\n",
       "      <td>[Action, Casual, Indie, Simulation, Strategy]</td>\n",
       "      <td>Lost Summoner Kitty</td>\n",
       "      <td>Lost Summoner Kitty</td>\n",
       "      <td>http://store.steampowered.com/app/761140/Lost_...</td>\n",
       "      <td>2018-01-04</td>\n",
       "      <td>[Strategy, Action, Indie, Casual, Simulation]</td>\n",
       "      <td>4.49</td>\n",
       "      <td>http://steamcommunity.com/app/761140/reviews/?...</td>\n",
       "      <td>[Single-player]</td>\n",
       "      <td>4.99</td>\n",
       "      <td>False</td>\n",
       "      <td>761140</td>\n",
       "      <td>Kotoshiro</td>\n",
       "      <td>NaN</td>\n",
       "      <td>NaN</td>\n",
       "    </tr>\n",
       "    <tr>\n",
       "      <th>1</th>\n",
       "      <td>Making Fun, Inc.</td>\n",
       "      <td>[Free to Play, Indie, RPG, Strategy]</td>\n",
       "      <td>Ironbound</td>\n",
       "      <td>Ironbound</td>\n",
       "      <td>http://store.steampowered.com/app/643980/Ironb...</td>\n",
       "      <td>2018-01-04</td>\n",
       "      <td>[Free to Play, Strategy, Indie, RPG, Card Game...</td>\n",
       "      <td>NaN</td>\n",
       "      <td>http://steamcommunity.com/app/643980/reviews/?...</td>\n",
       "      <td>[Single-player, Multi-player, Online Multi-Pla...</td>\n",
       "      <td>Free To Play</td>\n",
       "      <td>False</td>\n",
       "      <td>643980</td>\n",
       "      <td>Secret Level SRL</td>\n",
       "      <td>Mostly Positive</td>\n",
       "      <td>NaN</td>\n",
       "    </tr>\n",
       "    <tr>\n",
       "      <th>2</th>\n",
       "      <td>Poolians.com</td>\n",
       "      <td>[Casual, Free to Play, Indie, Simulation, Sports]</td>\n",
       "      <td>Real Pool 3D - Poolians</td>\n",
       "      <td>Real Pool 3D - Poolians</td>\n",
       "      <td>http://store.steampowered.com/app/670290/Real_...</td>\n",
       "      <td>2017-07-24</td>\n",
       "      <td>[Free to Play, Simulation, Sports, Casual, Ind...</td>\n",
       "      <td>NaN</td>\n",
       "      <td>http://steamcommunity.com/app/670290/reviews/?...</td>\n",
       "      <td>[Single-player, Multi-player, Online Multi-Pla...</td>\n",
       "      <td>Free to Play</td>\n",
       "      <td>False</td>\n",
       "      <td>670290</td>\n",
       "      <td>Poolians.com</td>\n",
       "      <td>Mostly Positive</td>\n",
       "      <td>NaN</td>\n",
       "    </tr>\n",
       "    <tr>\n",
       "      <th>3</th>\n",
       "      <td>彼岸领域</td>\n",
       "      <td>[Action, Adventure, Casual]</td>\n",
       "      <td>弹炸人2222</td>\n",
       "      <td>弹炸人2222</td>\n",
       "      <td>http://store.steampowered.com/app/767400/2222/</td>\n",
       "      <td>2017-12-07</td>\n",
       "      <td>[Action, Adventure, Casual]</td>\n",
       "      <td>0.83</td>\n",
       "      <td>http://steamcommunity.com/app/767400/reviews/?...</td>\n",
       "      <td>[Single-player]</td>\n",
       "      <td>0.99</td>\n",
       "      <td>False</td>\n",
       "      <td>767400</td>\n",
       "      <td>彼岸领域</td>\n",
       "      <td>NaN</td>\n",
       "      <td>NaN</td>\n",
       "    </tr>\n",
       "    <tr>\n",
       "      <th>4</th>\n",
       "      <td>NaN</td>\n",
       "      <td>NaN</td>\n",
       "      <td>Log Challenge</td>\n",
       "      <td>NaN</td>\n",
       "      <td>http://store.steampowered.com/app/773570/Log_C...</td>\n",
       "      <td>NaN</td>\n",
       "      <td>[Action, Indie, Casual, Sports]</td>\n",
       "      <td>1.79</td>\n",
       "      <td>http://steamcommunity.com/app/773570/reviews/?...</td>\n",
       "      <td>[Single-player, Full controller support, HTC V...</td>\n",
       "      <td>2.99</td>\n",
       "      <td>False</td>\n",
       "      <td>773570</td>\n",
       "      <td>NaN</td>\n",
       "      <td>NaN</td>\n",
       "      <td>NaN</td>\n",
       "    </tr>\n",
       "  </tbody>\n",
       "</table>\n",
       "</div>"
      ],
      "text/plain": [
       "          publisher                                             genres  \\\n",
       "0         Kotoshiro      [Action, Casual, Indie, Simulation, Strategy]   \n",
       "1  Making Fun, Inc.               [Free to Play, Indie, RPG, Strategy]   \n",
       "2      Poolians.com  [Casual, Free to Play, Indie, Simulation, Sports]   \n",
       "3              彼岸领域                        [Action, Adventure, Casual]   \n",
       "4               NaN                                                NaN   \n",
       "\n",
       "                  app_name                    title  \\\n",
       "0      Lost Summoner Kitty      Lost Summoner Kitty   \n",
       "1                Ironbound                Ironbound   \n",
       "2  Real Pool 3D - Poolians  Real Pool 3D - Poolians   \n",
       "3                  弹炸人2222                  弹炸人2222   \n",
       "4            Log Challenge                      NaN   \n",
       "\n",
       "                                                 url release_date  \\\n",
       "0  http://store.steampowered.com/app/761140/Lost_...   2018-01-04   \n",
       "1  http://store.steampowered.com/app/643980/Ironb...   2018-01-04   \n",
       "2  http://store.steampowered.com/app/670290/Real_...   2017-07-24   \n",
       "3     http://store.steampowered.com/app/767400/2222/   2017-12-07   \n",
       "4  http://store.steampowered.com/app/773570/Log_C...          NaN   \n",
       "\n",
       "                                                tags  discount_price  \\\n",
       "0      [Strategy, Action, Indie, Casual, Simulation]            4.49   \n",
       "1  [Free to Play, Strategy, Indie, RPG, Card Game...             NaN   \n",
       "2  [Free to Play, Simulation, Sports, Casual, Ind...             NaN   \n",
       "3                        [Action, Adventure, Casual]            0.83   \n",
       "4                    [Action, Indie, Casual, Sports]            1.79   \n",
       "\n",
       "                                         reviews_url  \\\n",
       "0  http://steamcommunity.com/app/761140/reviews/?...   \n",
       "1  http://steamcommunity.com/app/643980/reviews/?...   \n",
       "2  http://steamcommunity.com/app/670290/reviews/?...   \n",
       "3  http://steamcommunity.com/app/767400/reviews/?...   \n",
       "4  http://steamcommunity.com/app/773570/reviews/?...   \n",
       "\n",
       "                                               specs         price  \\\n",
       "0                                    [Single-player]          4.99   \n",
       "1  [Single-player, Multi-player, Online Multi-Pla...  Free To Play   \n",
       "2  [Single-player, Multi-player, Online Multi-Pla...  Free to Play   \n",
       "3                                    [Single-player]          0.99   \n",
       "4  [Single-player, Full controller support, HTC V...          2.99   \n",
       "\n",
       "   early_access      id         developer        sentiment metascore  \n",
       "0         False  761140         Kotoshiro              NaN       NaN  \n",
       "1         False  643980  Secret Level SRL  Mostly Positive       NaN  \n",
       "2         False  670290      Poolians.com  Mostly Positive       NaN  \n",
       "3         False  767400              彼岸领域              NaN       NaN  \n",
       "4         False  773570               NaN              NaN       NaN  "
      ]
     },
     "execution_count": 3,
     "metadata": {},
     "output_type": "execute_result"
    }
   ],
   "source": [
    "#Exploramos la data\n",
    "df.head()"
   ]
  },
  {
   "cell_type": "code",
   "execution_count": 4,
   "metadata": {},
   "outputs": [
    {
     "data": {
      "text/plain": [
       "developer\n",
       "Ubisoft - San Francisco       1259\n",
       "SmiteWorks USA, LLC            813\n",
       "Dovetail Games                 253\n",
       "KOEI TECMO GAMES CO., LTD.     232\n",
       "Paradox Development Studio     156\n",
       "                              ... \n",
       "Royal9Games,RoyalJL              1\n",
       "Salus Games                      1\n",
       "Class of  2016-2017              1\n",
       "Pirotexnik                       1\n",
       "Bidoniera Games                  1\n",
       "Name: count, Length: 10992, dtype: int64"
      ]
     },
     "execution_count": 4,
     "metadata": {},
     "output_type": "execute_result"
    }
   ],
   "source": [
    "df.developer.value_counts()"
   ]
  },
  {
   "cell_type": "code",
   "execution_count": 117,
   "metadata": {},
   "outputs": [
    {
     "data": {
      "text/html": [
       "<div>\n",
       "<style scoped>\n",
       "    .dataframe tbody tr th:only-of-type {\n",
       "        vertical-align: middle;\n",
       "    }\n",
       "\n",
       "    .dataframe tbody tr th {\n",
       "        vertical-align: top;\n",
       "    }\n",
       "\n",
       "    .dataframe thead th {\n",
       "        text-align: right;\n",
       "    }\n",
       "</style>\n",
       "<table border=\"1\" class=\"dataframe\">\n",
       "  <thead>\n",
       "    <tr style=\"text-align: right;\">\n",
       "      <th></th>\n",
       "      <th>discount_price</th>\n",
       "    </tr>\n",
       "  </thead>\n",
       "  <tbody>\n",
       "    <tr>\n",
       "      <th>count</th>\n",
       "      <td>225.000000</td>\n",
       "    </tr>\n",
       "    <tr>\n",
       "      <th>mean</th>\n",
       "      <td>11.930533</td>\n",
       "    </tr>\n",
       "    <tr>\n",
       "      <th>std</th>\n",
       "      <td>17.492643</td>\n",
       "    </tr>\n",
       "    <tr>\n",
       "      <th>min</th>\n",
       "      <td>0.490000</td>\n",
       "    </tr>\n",
       "    <tr>\n",
       "      <th>25%</th>\n",
       "      <td>1.390000</td>\n",
       "    </tr>\n",
       "    <tr>\n",
       "      <th>50%</th>\n",
       "      <td>4.190000</td>\n",
       "    </tr>\n",
       "    <tr>\n",
       "      <th>75%</th>\n",
       "      <td>22.660000</td>\n",
       "    </tr>\n",
       "    <tr>\n",
       "      <th>max</th>\n",
       "      <td>139.990000</td>\n",
       "    </tr>\n",
       "  </tbody>\n",
       "</table>\n",
       "</div>"
      ],
      "text/plain": [
       "       discount_price\n",
       "count      225.000000\n",
       "mean        11.930533\n",
       "std         17.492643\n",
       "min          0.490000\n",
       "25%          1.390000\n",
       "50%          4.190000\n",
       "75%         22.660000\n",
       "max        139.990000"
      ]
     },
     "execution_count": 117,
     "metadata": {},
     "output_type": "execute_result"
    }
   ],
   "source": [
    "#Resumen estadístico inicial de los campos numéricos\n",
    "df.describe()"
   ]
  },
  {
   "cell_type": "code",
   "execution_count": 118,
   "metadata": {},
   "outputs": [
    {
     "name": "stdout",
     "output_type": "stream",
     "text": [
      "<class 'pandas.core.frame.DataFrame'>\n",
      "RangeIndex: 32135 entries, 0 to 32134\n",
      "Data columns (total 16 columns):\n",
      " #   Column          Non-Null Count  Dtype  \n",
      "---  ------          --------------  -----  \n",
      " 0   publisher       24083 non-null  object \n",
      " 1   genres          28852 non-null  object \n",
      " 2   app_name        32133 non-null  object \n",
      " 3   title           30085 non-null  object \n",
      " 4   url             32135 non-null  object \n",
      " 5   release_date    30068 non-null  object \n",
      " 6   tags            31972 non-null  object \n",
      " 7   discount_price  225 non-null    float64\n",
      " 8   reviews_url     32133 non-null  object \n",
      " 9   specs           31465 non-null  object \n",
      " 10  price           30758 non-null  object \n",
      " 11  early_access    32135 non-null  bool   \n",
      " 12  id              32133 non-null  object \n",
      " 13  developer       28836 non-null  object \n",
      " 14  sentiment       24953 non-null  object \n",
      " 15  metascore       2677 non-null   object \n",
      "dtypes: bool(1), float64(1), object(14)\n",
      "memory usage: 3.7+ MB\n"
     ]
    }
   ],
   "source": [
    "#Observamos número de registros, valores nulos y tipos de columnas\n",
    "df.info()"
   ]
  },
  {
   "cell_type": "markdown",
   "metadata": {},
   "source": [
    "#### Transformación de la columna \"price\"."
   ]
  },
  {
   "cell_type": "code",
   "execution_count": 119,
   "metadata": {},
   "outputs": [],
   "source": [
    "#Remplazamos por cero las cadenas \"Free To Play\", \"Free to Play\", \"Free\".\n",
    "reemplazos = {\"Free To Play\": \"0\", \"Free to Play\": \"0\", \"Free\": \"0\"}\n",
    "df[\"price\"] = df[\"price\"].replace(reemplazos)"
   ]
  },
  {
   "cell_type": "code",
   "execution_count": 120,
   "metadata": {},
   "outputs": [],
   "source": [
    "#Convertimos la columna \"price\" de \"object\" en \"float\" para poder realizar operaciones matemáticas\n",
    "df['price'] = pd.to_numeric(df['price'], errors= 'coerce', downcast = 'float')"
   ]
  },
  {
   "cell_type": "code",
   "execution_count": 121,
   "metadata": {},
   "outputs": [
    {
     "data": {
      "text/plain": [
       "1400"
      ]
     },
     "execution_count": 121,
     "metadata": {},
     "output_type": "execute_result"
    }
   ],
   "source": [
    "#Cuenta los valores no numéricos de la columna \"price\"\n",
    "df['price'].isna().sum()"
   ]
  },
  {
   "cell_type": "code",
   "execution_count": 122,
   "metadata": {},
   "outputs": [],
   "source": [
    "#Elima los valores no numéricos de la columna \"price\"\n",
    "df.dropna(subset=['price'], inplace=True)"
   ]
  },
  {
   "cell_type": "markdown",
   "metadata": {},
   "source": [
    "#### Transformación de la columna \"release_date\"."
   ]
  },
  {
   "cell_type": "code",
   "execution_count": 123,
   "metadata": {},
   "outputs": [],
   "source": [
    "#Transforma la columna release_date de tipo \"object\" a \"datetime\" para poder hacer análisis y extraer sus componentes\n",
    "df['release_date'] = pd.to_datetime(df['release_date'], errors='coerce')\n",
    "\n",
    "#Extracción del año de la columna release_date para operar con más eficiencia\n",
    "df['year'] = df['release_date'].dt.year"
   ]
  },
  {
   "cell_type": "code",
   "execution_count": 124,
   "metadata": {},
   "outputs": [
    {
     "data": {
      "text/plain": [
       "1976"
      ]
     },
     "execution_count": 124,
     "metadata": {},
     "output_type": "execute_result"
    }
   ],
   "source": [
    "#Contar nulos\n",
    "df['year'].isnull().sum()"
   ]
  },
  {
   "cell_type": "code",
   "execution_count": 125,
   "metadata": {},
   "outputs": [],
   "source": [
    "#Eliminar las filas en las que la columna \"year\" tenga valores nulos. \n",
    "#Nos piden crear funciones en las que solo extraemos datos a partir de los años y no pueden ser nulos. \n",
    "df.dropna(subset=['year'], inplace=True)\n",
    "\n",
    "#Cambiamos el tipo de dato de la columna a entero.\n",
    "df['year'] = df['year'].astype(int)\n",
    "\n",
    "#Eliminamos la columna porque ya extrajimos el año, que era el valor necesario para hacer las operaciones requeridas. \n",
    "df.drop(columns= [\"release_date\"], inplace=True)"
   ]
  },
  {
   "cell_type": "markdown",
   "metadata": {},
   "source": [
    "#### Transformación de la columna \"metascore\"."
   ]
  },
  {
   "cell_type": "code",
   "execution_count": 126,
   "metadata": {},
   "outputs": [],
   "source": [
    "# Cambiamos la columna de tipo de dato \"object\" a \"float\".\n",
    "df['metascore'] = pd.to_numeric(df['metascore'], errors='coerce')"
   ]
  },
  {
   "cell_type": "code",
   "execution_count": 127,
   "metadata": {},
   "outputs": [],
   "source": [
    "# Imputamos los valores Nan de la columna con cero.\n",
    "# Debemos imputar datos porque es una columna que utilizaremos para operaciones y eliminar los NaN implicaría\n",
    "# borrar el 91% de los valores lo cual afectaría el conjunto de datos. \n",
    "df['metascore'] = df['metascore'].fillna(0)"
   ]
  },
  {
   "cell_type": "code",
   "execution_count": 128,
   "metadata": {},
   "outputs": [
    {
     "data": {
      "text/plain": [
       "91.23057129941931"
      ]
     },
     "execution_count": 128,
     "metadata": {},
     "output_type": "execute_result"
    }
   ],
   "source": [
    "#Calcula el porcentaje de valores iguales a 0 tiene la columna \"metascore\". \n",
    "cantidad_ceros = df['metascore'].eq(0).sum()\n",
    "total_filas = df['metascore'].count()\n",
    "porcentaje_ceros = (cantidad_ceros / total_filas) * 100\n",
    "porcentaje_ceros"
   ]
  },
  {
   "cell_type": "markdown",
   "metadata": {},
   "source": [
    "#### Transformación de la columna \"sentiment\"."
   ]
  },
  {
   "cell_type": "code",
   "execution_count": 129,
   "metadata": {},
   "outputs": [],
   "source": [
    "# Eliminamos los nulos porque nos exigen utilizar registros categorizados. \n",
    "df.dropna(subset=['sentiment'], inplace=True)"
   ]
  },
  {
   "cell_type": "code",
   "execution_count": 130,
   "metadata": {},
   "outputs": [
    {
     "data": {
      "text/plain": [
       "sentiment\n",
       "Mixed                      3747\n",
       "Very Positive              3543\n",
       "Positive                   2849\n",
       "Mostly Positive            2489\n",
       "1 user reviews             2275\n",
       "2 user reviews             1566\n",
       "3 user reviews             1081\n",
       "4 user reviews              849\n",
       "5 user reviews              743\n",
       "Mostly Negative             738\n",
       "6 user reviews              643\n",
       "7 user reviews              518\n",
       "8 user reviews              458\n",
       "9 user reviews              419\n",
       "Overwhelmingly Positive     290\n",
       "Negative                    113\n",
       "Very Negative                26\n",
       "Overwhelmingly Negative       7\n",
       "Name: count, dtype: int64"
      ]
     },
     "execution_count": 130,
     "metadata": {},
     "output_type": "execute_result"
    }
   ],
   "source": [
    "#Contamos las categorías de la columna.\n",
    "df[\"sentiment\"].value_counts() "
   ]
  },
  {
   "cell_type": "code",
   "execution_count": 131,
   "metadata": {},
   "outputs": [
    {
     "data": {
      "text/plain": [
       "8552"
      ]
     },
     "execution_count": 131,
     "metadata": {},
     "output_type": "execute_result"
    }
   ],
   "source": [
    "ser_reviews_count = df[df['sentiment'].str.contains(r'\\d+ user reviews', case=False)].shape[0]\n",
    "ser_reviews_count"
   ]
  },
  {
   "cell_type": "markdown",
   "metadata": {},
   "source": [
    "#### Columna \"id\"."
   ]
  },
  {
   "cell_type": "code",
   "execution_count": 132,
   "metadata": {},
   "outputs": [
    {
     "data": {
      "text/plain": [
       "1"
      ]
     },
     "execution_count": 132,
     "metadata": {},
     "output_type": "execute_result"
    }
   ],
   "source": [
    "df[\"id\"].isnull().sum()"
   ]
  },
  {
   "cell_type": "code",
   "execution_count": 133,
   "metadata": {},
   "outputs": [],
   "source": [
    "#Eliminamos el valor nulo encontrado. Es una anomalía dentro de la columna. \n",
    "df = df.dropna(subset=['id'])"
   ]
  },
  {
   "cell_type": "markdown",
   "metadata": {},
   "source": [
    "#### Columna \"discount_price\"."
   ]
  },
  {
   "cell_type": "code",
   "execution_count": 134,
   "metadata": {},
   "outputs": [
    {
     "name": "stdout",
     "output_type": "stream",
     "text": [
      "Porcentaje de valores nulos en 'discount_price': 99.56%\n"
     ]
    }
   ],
   "source": [
    "total_rows = len(df)\n",
    "\n",
    "# Paso 2: Calcular la cantidad de filas con valores nulos en la columna \"discount_price\"\n",
    "null_count = df[\"discount_price\"].isnull().sum()\n",
    "\n",
    "# Paso 3: Calcular el porcentaje de nulos en la columna \"discount_price\"\n",
    "percentaje_nulos = (null_count / total_rows) * 100\n",
    "\n",
    "print(f\"Porcentaje de valores nulos en 'discount_price': {percentaje_nulos:.2f}%\")"
   ]
  },
  {
   "cell_type": "markdown",
   "metadata": {},
   "source": [
    "* * La columna discount_price\ttiene un 99.54% de valores nulos. No se usará para las funciones que crearemos para la APi y la cantidad de datos válidos es muy baja para poder considerarla adecuada para el modelo de machine learning. Por estas razones la eliminamos. "
   ]
  },
  {
   "cell_type": "code",
   "execution_count": 135,
   "metadata": {},
   "outputs": [],
   "source": [
    "# Eliminar columna\n",
    "df.drop(columns= [\"discount_price\"], inplace=True)"
   ]
  },
  {
   "cell_type": "markdown",
   "metadata": {},
   "source": [
    "Eliminación de nulos en columnas \"genres\" y \"specs\"."
   ]
  },
  {
   "cell_type": "code",
   "execution_count": 136,
   "metadata": {},
   "outputs": [
    {
     "data": {
      "text/plain": [
       "596"
      ]
     },
     "execution_count": 136,
     "metadata": {},
     "output_type": "execute_result"
    }
   ],
   "source": [
    "#Conteo de nulos\n",
    "df[\"genres\"].isnull().sum()"
   ]
  },
  {
   "cell_type": "code",
   "execution_count": 137,
   "metadata": {},
   "outputs": [],
   "source": [
    "#Eliminamos nulos porque para las funciones nos piden registros con valores. \n",
    "#Además, es una columna importante para el modelamiento de ML y no puede tener nulos.  \n",
    "df = df.dropna(subset=[\"genres\"])"
   ]
  },
  {
   "cell_type": "code",
   "execution_count": 138,
   "metadata": {},
   "outputs": [
    {
     "data": {
      "text/plain": [
       "229"
      ]
     },
     "execution_count": 138,
     "metadata": {},
     "output_type": "execute_result"
    }
   ],
   "source": [
    "df[\"specs\"].isnull().sum()"
   ]
  },
  {
   "cell_type": "code",
   "execution_count": 139,
   "metadata": {},
   "outputs": [],
   "source": [
    "df = df.dropna(subset=[\"specs\"])"
   ]
  },
  {
   "cell_type": "markdown",
   "metadata": {},
   "source": [
    "#### Eliminación de columnas "
   ]
  },
  {
   "cell_type": "markdown",
   "metadata": {},
   "source": [
    "Criterios de eliminación:\n",
    "* Nos piden seis funciones para las que no necesitaremos las columnas \"publisher\", \"tags\", \"developer\",\"reviews_url\", \"url\". Por otra parte, solo la columna \"developer\" podría tener influencia en nuestra variable target, pero hay otras variables independientes más importantes cómo \"genres\", \"year, \"early_access\".\n",
    "* La columna \"title\" cumple la misma función que \"app_name\", por lo que eliminamos la primera. "
   ]
  },
  {
   "cell_type": "code",
   "execution_count": 140,
   "metadata": {},
   "outputs": [],
   "source": [
    "df.drop(columns= [\"publisher\", \"tags\", \"developer\", \"reviews_url\", \"url\", \"title\"], inplace=True)"
   ]
  },
  {
   "cell_type": "code",
   "execution_count": 141,
   "metadata": {},
   "outputs": [],
   "source": [
    "# csv_path = os.path.join(\"data\", \"steam.csv\")\n",
    "# df.to_csv(csv_path, index=False)"
   ]
  },
  {
   "cell_type": "code",
   "execution_count": 142,
   "metadata": {},
   "outputs": [],
   "source": [
    "# Exportar el DataFrame como un archivo CSV   ### ojo\n",
    "df.to_csv('steam.csv', index=False)"
   ]
  },
  {
   "cell_type": "markdown",
   "metadata": {},
   "source": [
    "#### Columnas anidadas \"genres\" y \"specs\"."
   ]
  },
  {
   "cell_type": "markdown",
   "metadata": {},
   "source": [
    "* Los valores de \"genres\" se encuentran en forma de lista. Crearemos un dataset aparte que contenga los géneros únicos y le asignaremos un id. También insertaremos en el dataset actual una columna con los id de los géneros. "
   ]
  },
  {
   "cell_type": "code",
   "execution_count": 143,
   "metadata": {},
   "outputs": [],
   "source": [
    "#Cargamos el nuevo dataset y continuamos realizando cambios\n",
    "steam = pd.read_csv(\"steam.csv\")"
   ]
  },
  {
   "cell_type": "code",
   "execution_count": 144,
   "metadata": {},
   "outputs": [
    {
     "name": "stdout",
     "output_type": "stream",
     "text": [
      "['Racing', 'Audio Production', 'Indie', 'Photo Editing', 'Animation &amp; Modeling', 'Simulation', 'Education', 'Early Access', 'Video Production', 'Strategy', 'Sports', 'Adventure', 'Web Publishing', 'Design &amp; Illustration', 'Action', 'Utilities', 'Casual', 'Software Training', 'Massively Multiplayer', 'Free to Play', 'RPG']\n"
     ]
    }
   ],
   "source": [
    "\n",
    "# Convertir las cadenas de texto en listas de Python\n",
    "steam['genres'] = steam['genres'].apply(ast.literal_eval)\n",
    "\n",
    "# Obtener todos los géneros de todas las listas en la columna 'genres'\n",
    "all_genres = [genre for genres_list in steam['genres'] for genre in genres_list]\n",
    "\n",
    "# Obtener géneros únicos eliminando duplicados\n",
    "unique_genres = list(set(all_genres))\n",
    "\n",
    "print(unique_genres)"
   ]
  },
  {
   "cell_type": "code",
   "execution_count": 145,
   "metadata": {},
   "outputs": [
    {
     "data": {
      "text/html": [
       "<div>\n",
       "<style scoped>\n",
       "    .dataframe tbody tr th:only-of-type {\n",
       "        vertical-align: middle;\n",
       "    }\n",
       "\n",
       "    .dataframe tbody tr th {\n",
       "        vertical-align: top;\n",
       "    }\n",
       "\n",
       "    .dataframe thead th {\n",
       "        text-align: right;\n",
       "    }\n",
       "</style>\n",
       "<table border=\"1\" class=\"dataframe\">\n",
       "  <thead>\n",
       "    <tr style=\"text-align: right;\">\n",
       "      <th></th>\n",
       "      <th>unique_genres</th>\n",
       "    </tr>\n",
       "  </thead>\n",
       "  <tbody>\n",
       "    <tr>\n",
       "      <th>0</th>\n",
       "      <td>Racing</td>\n",
       "    </tr>\n",
       "    <tr>\n",
       "      <th>1</th>\n",
       "      <td>Audio Production</td>\n",
       "    </tr>\n",
       "    <tr>\n",
       "      <th>2</th>\n",
       "      <td>Indie</td>\n",
       "    </tr>\n",
       "    <tr>\n",
       "      <th>3</th>\n",
       "      <td>Photo Editing</td>\n",
       "    </tr>\n",
       "    <tr>\n",
       "      <th>4</th>\n",
       "      <td>Animation &amp;amp; Modeling</td>\n",
       "    </tr>\n",
       "    <tr>\n",
       "      <th>5</th>\n",
       "      <td>Simulation</td>\n",
       "    </tr>\n",
       "    <tr>\n",
       "      <th>6</th>\n",
       "      <td>Education</td>\n",
       "    </tr>\n",
       "    <tr>\n",
       "      <th>7</th>\n",
       "      <td>Early Access</td>\n",
       "    </tr>\n",
       "    <tr>\n",
       "      <th>8</th>\n",
       "      <td>Video Production</td>\n",
       "    </tr>\n",
       "    <tr>\n",
       "      <th>9</th>\n",
       "      <td>Strategy</td>\n",
       "    </tr>\n",
       "    <tr>\n",
       "      <th>10</th>\n",
       "      <td>Sports</td>\n",
       "    </tr>\n",
       "    <tr>\n",
       "      <th>11</th>\n",
       "      <td>Adventure</td>\n",
       "    </tr>\n",
       "    <tr>\n",
       "      <th>12</th>\n",
       "      <td>Web Publishing</td>\n",
       "    </tr>\n",
       "    <tr>\n",
       "      <th>13</th>\n",
       "      <td>Design &amp;amp; Illustration</td>\n",
       "    </tr>\n",
       "    <tr>\n",
       "      <th>14</th>\n",
       "      <td>Action</td>\n",
       "    </tr>\n",
       "    <tr>\n",
       "      <th>15</th>\n",
       "      <td>Utilities</td>\n",
       "    </tr>\n",
       "    <tr>\n",
       "      <th>16</th>\n",
       "      <td>Casual</td>\n",
       "    </tr>\n",
       "    <tr>\n",
       "      <th>17</th>\n",
       "      <td>Software Training</td>\n",
       "    </tr>\n",
       "    <tr>\n",
       "      <th>18</th>\n",
       "      <td>Massively Multiplayer</td>\n",
       "    </tr>\n",
       "    <tr>\n",
       "      <th>19</th>\n",
       "      <td>Free to Play</td>\n",
       "    </tr>\n",
       "    <tr>\n",
       "      <th>20</th>\n",
       "      <td>RPG</td>\n",
       "    </tr>\n",
       "  </tbody>\n",
       "</table>\n",
       "</div>"
      ],
      "text/plain": [
       "                unique_genres\n",
       "0                      Racing\n",
       "1            Audio Production\n",
       "2                       Indie\n",
       "3               Photo Editing\n",
       "4    Animation &amp; Modeling\n",
       "5                  Simulation\n",
       "6                   Education\n",
       "7                Early Access\n",
       "8            Video Production\n",
       "9                    Strategy\n",
       "10                     Sports\n",
       "11                  Adventure\n",
       "12             Web Publishing\n",
       "13  Design &amp; Illustration\n",
       "14                     Action\n",
       "15                  Utilities\n",
       "16                     Casual\n",
       "17          Software Training\n",
       "18      Massively Multiplayer\n",
       "19               Free to Play\n",
       "20                        RPG"
      ]
     },
     "execution_count": 145,
     "metadata": {},
     "output_type": "execute_result"
    }
   ],
   "source": [
    "#Tenemos un primer DataFrame con los géneros únicos\n",
    "df_unique_genres = pd.DataFrame({'unique_genres': unique_genres})\n",
    "df_unique_genres"
   ]
  },
  {
   "cell_type": "code",
   "execution_count": 146,
   "metadata": {},
   "outputs": [
    {
     "data": {
      "text/plain": [
       "{'Racing': 1,\n",
       " 'Audio Production': 2,\n",
       " 'Indie': 3,\n",
       " 'Photo Editing': 4,\n",
       " 'Animation &amp; Modeling': 5,\n",
       " 'Simulation': 6,\n",
       " 'Education': 7,\n",
       " 'Early Access': 8,\n",
       " 'Video Production': 9,\n",
       " 'Strategy': 10,\n",
       " 'Sports': 11,\n",
       " 'Adventure': 12,\n",
       " 'Web Publishing': 13,\n",
       " 'Design &amp; Illustration': 14,\n",
       " 'Action': 15,\n",
       " 'Utilities': 16,\n",
       " 'Casual': 17,\n",
       " 'Software Training': 18,\n",
       " 'Massively Multiplayer': 19,\n",
       " 'Free to Play': 20,\n",
       " 'RPG': 21}"
      ]
     },
     "execution_count": 146,
     "metadata": {},
     "output_type": "execute_result"
    }
   ],
   "source": [
    "# Creamos un diccionario\n",
    "genre_to_id = {genre: idx for idx, genre in enumerate(unique_genres, start=1)}\n",
    "\n",
    "genre_to_id"
   ]
  },
  {
   "cell_type": "code",
   "execution_count": 147,
   "metadata": {},
   "outputs": [],
   "source": [
    "#Convertimos el diccionario en un DataFrame \n",
    "df_genre_to_id = pd.DataFrame.from_dict(genre_to_id, orient='index', columns=['id'])\n",
    "\n",
    "# csv_path2 = os.path.join(\"data\", \"genre_to_id.csv\")\n",
    "# df.to_csv(csv_path2, index=False)\n",
    "\n",
    "# Guardar el DataFrame en un archivo CSV\n",
    "df_genre_to_id.to_csv('genre_to_id.csv', index_label='genre') "
   ]
  },
  {
   "cell_type": "code",
   "execution_count": 148,
   "metadata": {},
   "outputs": [],
   "source": [
    "# Función para mapear los géneros a sus respectivos IDs\n",
    "def map_genres_to_ids(genres_list):\n",
    "    return [genre_to_id[genre] for genre in genres_list]\n",
    "\n",
    "# Aplicar la función a la columna 'genres' para obtener la columna 'genre_id'\n",
    "steam['genre_id'] = steam['genres'].apply(map_genres_to_ids)\n"
   ]
  },
  {
   "cell_type": "markdown",
   "metadata": {},
   "source": [
    "* Aplicamos el mismo procedimiento a la columna \"specs\"."
   ]
  },
  {
   "cell_type": "code",
   "execution_count": 149,
   "metadata": {},
   "outputs": [
    {
     "name": "stdout",
     "output_type": "stream",
     "text": [
      "['MMO', 'Cross-Platform Multiplayer', 'Includes Source SDK', 'Steam Trading Cards', 'Steam Leaderboards', 'Valve Anti-Cheat enabled', 'Local Co-op', 'Mods', 'In-App Purchases', 'Online Co-op', 'Game demo', 'Mods (require HL2)', 'Downloadable Content', 'Stats', 'Shared/Split Screen', 'Full controller support', 'Single-player', 'Steam Turn Notifications', 'Steam Cloud', 'Multi-player', 'Partial Controller Support', 'Commentary available', 'SteamVR Collectibles', 'Online Multi-Player', 'Includes level editor', 'Local Multi-Player', 'Steam Achievements', 'Captions available', 'Steam Workshop', 'Co-op']\n"
     ]
    }
   ],
   "source": [
    "# Convertir las cadenas de texto en listas de Python\n",
    "steam['specs'] = steam['specs'].apply(ast.literal_eval)\n",
    "\n",
    "# Obtener todos los géneros de todas las listas en la columna 'genres'\n",
    "all_specs = [spec for specs_list in steam['specs'] for spec in specs_list]\n",
    "\n",
    "# Obtener géneros únicos eliminando duplicados\n",
    "unique_specs = list(set(all_specs))\n",
    "\n",
    "print(unique_specs)"
   ]
  },
  {
   "cell_type": "code",
   "execution_count": 150,
   "metadata": {},
   "outputs": [
    {
     "data": {
      "text/html": [
       "<div>\n",
       "<style scoped>\n",
       "    .dataframe tbody tr th:only-of-type {\n",
       "        vertical-align: middle;\n",
       "    }\n",
       "\n",
       "    .dataframe tbody tr th {\n",
       "        vertical-align: top;\n",
       "    }\n",
       "\n",
       "    .dataframe thead th {\n",
       "        text-align: right;\n",
       "    }\n",
       "</style>\n",
       "<table border=\"1\" class=\"dataframe\">\n",
       "  <thead>\n",
       "    <tr style=\"text-align: right;\">\n",
       "      <th></th>\n",
       "      <th>unique_specs</th>\n",
       "    </tr>\n",
       "  </thead>\n",
       "  <tbody>\n",
       "    <tr>\n",
       "      <th>0</th>\n",
       "      <td>MMO</td>\n",
       "    </tr>\n",
       "    <tr>\n",
       "      <th>1</th>\n",
       "      <td>Cross-Platform Multiplayer</td>\n",
       "    </tr>\n",
       "    <tr>\n",
       "      <th>2</th>\n",
       "      <td>Includes Source SDK</td>\n",
       "    </tr>\n",
       "    <tr>\n",
       "      <th>3</th>\n",
       "      <td>Steam Trading Cards</td>\n",
       "    </tr>\n",
       "    <tr>\n",
       "      <th>4</th>\n",
       "      <td>Steam Leaderboards</td>\n",
       "    </tr>\n",
       "    <tr>\n",
       "      <th>5</th>\n",
       "      <td>Valve Anti-Cheat enabled</td>\n",
       "    </tr>\n",
       "    <tr>\n",
       "      <th>6</th>\n",
       "      <td>Local Co-op</td>\n",
       "    </tr>\n",
       "    <tr>\n",
       "      <th>7</th>\n",
       "      <td>Mods</td>\n",
       "    </tr>\n",
       "    <tr>\n",
       "      <th>8</th>\n",
       "      <td>In-App Purchases</td>\n",
       "    </tr>\n",
       "    <tr>\n",
       "      <th>9</th>\n",
       "      <td>Online Co-op</td>\n",
       "    </tr>\n",
       "    <tr>\n",
       "      <th>10</th>\n",
       "      <td>Game demo</td>\n",
       "    </tr>\n",
       "    <tr>\n",
       "      <th>11</th>\n",
       "      <td>Mods (require HL2)</td>\n",
       "    </tr>\n",
       "    <tr>\n",
       "      <th>12</th>\n",
       "      <td>Downloadable Content</td>\n",
       "    </tr>\n",
       "    <tr>\n",
       "      <th>13</th>\n",
       "      <td>Stats</td>\n",
       "    </tr>\n",
       "    <tr>\n",
       "      <th>14</th>\n",
       "      <td>Shared/Split Screen</td>\n",
       "    </tr>\n",
       "    <tr>\n",
       "      <th>15</th>\n",
       "      <td>Full controller support</td>\n",
       "    </tr>\n",
       "    <tr>\n",
       "      <th>16</th>\n",
       "      <td>Single-player</td>\n",
       "    </tr>\n",
       "    <tr>\n",
       "      <th>17</th>\n",
       "      <td>Steam Turn Notifications</td>\n",
       "    </tr>\n",
       "    <tr>\n",
       "      <th>18</th>\n",
       "      <td>Steam Cloud</td>\n",
       "    </tr>\n",
       "    <tr>\n",
       "      <th>19</th>\n",
       "      <td>Multi-player</td>\n",
       "    </tr>\n",
       "    <tr>\n",
       "      <th>20</th>\n",
       "      <td>Partial Controller Support</td>\n",
       "    </tr>\n",
       "    <tr>\n",
       "      <th>21</th>\n",
       "      <td>Commentary available</td>\n",
       "    </tr>\n",
       "    <tr>\n",
       "      <th>22</th>\n",
       "      <td>SteamVR Collectibles</td>\n",
       "    </tr>\n",
       "    <tr>\n",
       "      <th>23</th>\n",
       "      <td>Online Multi-Player</td>\n",
       "    </tr>\n",
       "    <tr>\n",
       "      <th>24</th>\n",
       "      <td>Includes level editor</td>\n",
       "    </tr>\n",
       "    <tr>\n",
       "      <th>25</th>\n",
       "      <td>Local Multi-Player</td>\n",
       "    </tr>\n",
       "    <tr>\n",
       "      <th>26</th>\n",
       "      <td>Steam Achievements</td>\n",
       "    </tr>\n",
       "    <tr>\n",
       "      <th>27</th>\n",
       "      <td>Captions available</td>\n",
       "    </tr>\n",
       "    <tr>\n",
       "      <th>28</th>\n",
       "      <td>Steam Workshop</td>\n",
       "    </tr>\n",
       "    <tr>\n",
       "      <th>29</th>\n",
       "      <td>Co-op</td>\n",
       "    </tr>\n",
       "  </tbody>\n",
       "</table>\n",
       "</div>"
      ],
      "text/plain": [
       "                  unique_specs\n",
       "0                          MMO\n",
       "1   Cross-Platform Multiplayer\n",
       "2          Includes Source SDK\n",
       "3          Steam Trading Cards\n",
       "4           Steam Leaderboards\n",
       "5     Valve Anti-Cheat enabled\n",
       "6                  Local Co-op\n",
       "7                         Mods\n",
       "8             In-App Purchases\n",
       "9                 Online Co-op\n",
       "10                   Game demo\n",
       "11          Mods (require HL2)\n",
       "12        Downloadable Content\n",
       "13                       Stats\n",
       "14         Shared/Split Screen\n",
       "15     Full controller support\n",
       "16               Single-player\n",
       "17    Steam Turn Notifications\n",
       "18                 Steam Cloud\n",
       "19                Multi-player\n",
       "20  Partial Controller Support\n",
       "21        Commentary available\n",
       "22        SteamVR Collectibles\n",
       "23         Online Multi-Player\n",
       "24       Includes level editor\n",
       "25          Local Multi-Player\n",
       "26          Steam Achievements\n",
       "27          Captions available\n",
       "28              Steam Workshop\n",
       "29                       Co-op"
      ]
     },
     "execution_count": 150,
     "metadata": {},
     "output_type": "execute_result"
    }
   ],
   "source": [
    "#Tenemos un primer DataFrame con los géneros únicos\n",
    "df_unique_specs = pd.DataFrame({'unique_specs': unique_specs})\n",
    "df_unique_specs"
   ]
  },
  {
   "cell_type": "code",
   "execution_count": 151,
   "metadata": {},
   "outputs": [
    {
     "data": {
      "text/plain": [
       "{'MMO': 1,\n",
       " 'Cross-Platform Multiplayer': 2,\n",
       " 'Includes Source SDK': 3,\n",
       " 'Steam Trading Cards': 4,\n",
       " 'Steam Leaderboards': 5,\n",
       " 'Valve Anti-Cheat enabled': 6,\n",
       " 'Local Co-op': 7,\n",
       " 'Mods': 8,\n",
       " 'In-App Purchases': 9,\n",
       " 'Online Co-op': 10,\n",
       " 'Game demo': 11,\n",
       " 'Mods (require HL2)': 12,\n",
       " 'Downloadable Content': 13,\n",
       " 'Stats': 14,\n",
       " 'Shared/Split Screen': 15,\n",
       " 'Full controller support': 16,\n",
       " 'Single-player': 17,\n",
       " 'Steam Turn Notifications': 18,\n",
       " 'Steam Cloud': 19,\n",
       " 'Multi-player': 20,\n",
       " 'Partial Controller Support': 21,\n",
       " 'Commentary available': 22,\n",
       " 'SteamVR Collectibles': 23,\n",
       " 'Online Multi-Player': 24,\n",
       " 'Includes level editor': 25,\n",
       " 'Local Multi-Player': 26,\n",
       " 'Steam Achievements': 27,\n",
       " 'Captions available': 28,\n",
       " 'Steam Workshop': 29,\n",
       " 'Co-op': 30}"
      ]
     },
     "execution_count": 151,
     "metadata": {},
     "output_type": "execute_result"
    }
   ],
   "source": [
    "# Creamos un diccionario\n",
    "spec_to_id = {spec: idx for idx, spec in enumerate(unique_specs, start=1)}\n",
    "\n",
    "spec_to_id"
   ]
  },
  {
   "cell_type": "code",
   "execution_count": 152,
   "metadata": {},
   "outputs": [],
   "source": [
    "#Convertimos el diccionario en un DataFrame \n",
    "df_spec_to_id = pd.DataFrame.from_dict(spec_to_id, orient='index', columns=['id'])\n",
    "\n",
    "# csv_path3 = os.path.join(\"data\", \"spec_to_id.csv\")\n",
    "# df.to_csv(csv_path3, index=False)\n",
    "\n",
    "# Guardar el DataFrame en un archivo CSV\n",
    "df_spec_to_id.to_csv('spec_to_id.csv', index_label='spec') "
   ]
  },
  {
   "cell_type": "code",
   "execution_count": 153,
   "metadata": {},
   "outputs": [],
   "source": [
    "# Función para mapear los géneros a sus respectivos IDs\n",
    "def map_specs_to_ids(specs_list):\n",
    "    return [spec_to_id[spec] for spec in specs_list]\n",
    "\n",
    "# Aplicar la función a la columna 'genres' para obtener la columna 'genre_id'\n",
    "steam['spec_id'] = steam['specs'].apply(map_specs_to_ids)"
   ]
  },
  {
   "cell_type": "code",
   "execution_count": 154,
   "metadata": {},
   "outputs": [],
   "source": [
    "# csv_path = os.path.join(\"data\", \"steam.csv\")\n",
    "# df.to_csv(csv_path, index=False)\n",
    "\n",
    "\n",
    "#Guardamos los últimos cambios en el csv limpio                         ###ojo\n",
    "steam.to_csv('steam.csv', index=False)"
   ]
  },
  {
   "cell_type": "code",
   "execution_count": 72,
   "metadata": {},
   "outputs": [
    {
     "data": {
      "text/html": [
       "<div>\n",
       "<style scoped>\n",
       "    .dataframe tbody tr th:only-of-type {\n",
       "        vertical-align: middle;\n",
       "    }\n",
       "\n",
       "    .dataframe tbody tr th {\n",
       "        vertical-align: top;\n",
       "    }\n",
       "\n",
       "    .dataframe thead th {\n",
       "        text-align: right;\n",
       "    }\n",
       "</style>\n",
       "<table border=\"1\" class=\"dataframe\">\n",
       "  <thead>\n",
       "    <tr style=\"text-align: right;\">\n",
       "      <th></th>\n",
       "      <th>genres</th>\n",
       "      <th>app_name</th>\n",
       "      <th>specs</th>\n",
       "      <th>price</th>\n",
       "      <th>early_access</th>\n",
       "      <th>id</th>\n",
       "      <th>sentiment</th>\n",
       "      <th>metascore</th>\n",
       "      <th>year</th>\n",
       "      <th>genre_id</th>\n",
       "      <th>spec_id</th>\n",
       "    </tr>\n",
       "  </thead>\n",
       "  <tbody>\n",
       "    <tr>\n",
       "      <th>0</th>\n",
       "      <td>[Free to Play, Indie, RPG, Strategy]</td>\n",
       "      <td>Ironbound</td>\n",
       "      <td>[Single-player, Multi-player, Online Multi-Pla...</td>\n",
       "      <td>0.00</td>\n",
       "      <td>False</td>\n",
       "      <td>643980</td>\n",
       "      <td>Mostly Positive</td>\n",
       "      <td>0.0</td>\n",
       "      <td>2018</td>\n",
       "      <td>[20, 3, 21, 10]</td>\n",
       "      <td>[17, 20, 24, 2, 27, 4, 9]</td>\n",
       "    </tr>\n",
       "    <tr>\n",
       "      <th>1</th>\n",
       "      <td>[Casual, Free to Play, Indie, Simulation, Sports]</td>\n",
       "      <td>Real Pool 3D - Poolians</td>\n",
       "      <td>[Single-player, Multi-player, Online Multi-Pla...</td>\n",
       "      <td>0.00</td>\n",
       "      <td>False</td>\n",
       "      <td>670290</td>\n",
       "      <td>Mostly Positive</td>\n",
       "      <td>0.0</td>\n",
       "      <td>2017</td>\n",
       "      <td>[17, 20, 3, 6, 11]</td>\n",
       "      <td>[17, 20, 24, 9, 14]</td>\n",
       "    </tr>\n",
       "    <tr>\n",
       "      <th>2</th>\n",
       "      <td>[Action, Adventure, Simulation]</td>\n",
       "      <td>Battle Royale Trainer</td>\n",
       "      <td>[Single-player, Steam Achievements]</td>\n",
       "      <td>3.99</td>\n",
       "      <td>False</td>\n",
       "      <td>772540</td>\n",
       "      <td>Mixed</td>\n",
       "      <td>0.0</td>\n",
       "      <td>2018</td>\n",
       "      <td>[15, 12, 6]</td>\n",
       "      <td>[17, 27]</td>\n",
       "    </tr>\n",
       "    <tr>\n",
       "      <th>3</th>\n",
       "      <td>[Adventure, Casual, Indie, Simulation, Strategy]</td>\n",
       "      <td>The first thrust of God</td>\n",
       "      <td>[Single-player, Steam Achievements, Steam Cloud]</td>\n",
       "      <td>1.59</td>\n",
       "      <td>False</td>\n",
       "      <td>773650</td>\n",
       "      <td>1 user reviews</td>\n",
       "      <td>0.0</td>\n",
       "      <td>2018</td>\n",
       "      <td>[12, 17, 3, 6, 10]</td>\n",
       "      <td>[17, 27, 19]</td>\n",
       "    </tr>\n",
       "    <tr>\n",
       "      <th>4</th>\n",
       "      <td>[Action, Adventure, Indie]</td>\n",
       "      <td>The Warrior Of Treasures</td>\n",
       "      <td>[Single-player]</td>\n",
       "      <td>0.99</td>\n",
       "      <td>False</td>\n",
       "      <td>768060</td>\n",
       "      <td>3 user reviews</td>\n",
       "      <td>0.0</td>\n",
       "      <td>2018</td>\n",
       "      <td>[15, 12, 3]</td>\n",
       "      <td>[17]</td>\n",
       "    </tr>\n",
       "  </tbody>\n",
       "</table>\n",
       "</div>"
      ],
      "text/plain": [
       "                                              genres  \\\n",
       "0               [Free to Play, Indie, RPG, Strategy]   \n",
       "1  [Casual, Free to Play, Indie, Simulation, Sports]   \n",
       "2                    [Action, Adventure, Simulation]   \n",
       "3   [Adventure, Casual, Indie, Simulation, Strategy]   \n",
       "4                         [Action, Adventure, Indie]   \n",
       "\n",
       "                   app_name  \\\n",
       "0                 Ironbound   \n",
       "1   Real Pool 3D - Poolians   \n",
       "2     Battle Royale Trainer   \n",
       "3   The first thrust of God   \n",
       "4  The Warrior Of Treasures   \n",
       "\n",
       "                                               specs  price  early_access  \\\n",
       "0  [Single-player, Multi-player, Online Multi-Pla...   0.00         False   \n",
       "1  [Single-player, Multi-player, Online Multi-Pla...   0.00         False   \n",
       "2                [Single-player, Steam Achievements]   3.99         False   \n",
       "3   [Single-player, Steam Achievements, Steam Cloud]   1.59         False   \n",
       "4                                    [Single-player]   0.99         False   \n",
       "\n",
       "       id        sentiment  metascore  year            genre_id  \\\n",
       "0  643980  Mostly Positive        0.0  2018     [20, 3, 21, 10]   \n",
       "1  670290  Mostly Positive        0.0  2017  [17, 20, 3, 6, 11]   \n",
       "2  772540            Mixed        0.0  2018         [15, 12, 6]   \n",
       "3  773650   1 user reviews        0.0  2018  [12, 17, 3, 6, 10]   \n",
       "4  768060   3 user reviews        0.0  2018         [15, 12, 3]   \n",
       "\n",
       "                     spec_id  \n",
       "0  [17, 20, 24, 2, 27, 4, 9]  \n",
       "1        [17, 20, 24, 9, 14]  \n",
       "2                   [17, 27]  \n",
       "3               [17, 27, 19]  \n",
       "4                       [17]  "
      ]
     },
     "execution_count": 72,
     "metadata": {},
     "output_type": "execute_result"
    }
   ],
   "source": [
    "steam.head()"
   ]
  },
  {
   "cell_type": "code",
   "execution_count": 43,
   "metadata": {},
   "outputs": [
    {
     "name": "stdout",
     "output_type": "stream",
     "text": [
      "<class 'pandas.core.frame.DataFrame'>\n",
      "RangeIndex: 21528 entries, 0 to 21527\n",
      "Data columns (total 11 columns):\n",
      " #   Column        Non-Null Count  Dtype  \n",
      "---  ------        --------------  -----  \n",
      " 0   genres        21528 non-null  object \n",
      " 1   app_name      21528 non-null  object \n",
      " 2   specs         21528 non-null  object \n",
      " 3   price         21528 non-null  float64\n",
      " 4   early_access  21528 non-null  bool   \n",
      " 5   id            21528 non-null  int64  \n",
      " 6   sentiment     21528 non-null  object \n",
      " 7   metascore     21528 non-null  float64\n",
      " 8   year          21528 non-null  int64  \n",
      " 9   genre_id      21528 non-null  object \n",
      " 10  spec_id       21528 non-null  object \n",
      "dtypes: bool(1), float64(2), int64(2), object(6)\n",
      "memory usage: 1.7+ MB\n"
     ]
    }
   ],
   "source": [
    "steam.info()"
   ]
  }
 ],
 "metadata": {
  "kernelspec": {
   "display_name": "venv",
   "language": "python",
   "name": "python3"
  },
  "language_info": {
   "codemirror_mode": {
    "name": "ipython",
    "version": 3
   },
   "file_extension": ".py",
   "mimetype": "text/x-python",
   "name": "python",
   "nbconvert_exporter": "python",
   "pygments_lexer": "ipython3",
   "version": "3.11.4"
  },
  "orig_nbformat": 4
 },
 "nbformat": 4,
 "nbformat_minor": 2
}
