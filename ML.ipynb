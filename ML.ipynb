{
 "cells": [
  {
   "cell_type": "code",
   "execution_count": 81,
   "metadata": {},
   "outputs": [],
   "source": [
    "import pandas as pd\n",
    "import matplotlib.pyplot as plt\n",
    "import ast\n",
    "import numpy as np\n",
    "import pickle\n",
    "from sklearn.preprocessing import MultiLabelBinarizer"
   ]
  },
  {
   "cell_type": "code",
   "execution_count": 57,
   "metadata": {},
   "outputs": [],
   "source": [
    "df2= pd.read_csv(\"data\\steam.csv\")\n",
    "dic_genres = pd.read_csv(\"data\\genre_to_id.csv\", index_col='genre').to_dict(\n",
    "    orient='dict')['id']"
   ]
  },
  {
   "cell_type": "code",
   "execution_count": 58,
   "metadata": {},
   "outputs": [
    {
     "data": {
      "text/html": [
       "<div>\n",
       "<style scoped>\n",
       "    .dataframe tbody tr th:only-of-type {\n",
       "        vertical-align: middle;\n",
       "    }\n",
       "\n",
       "    .dataframe tbody tr th {\n",
       "        vertical-align: top;\n",
       "    }\n",
       "\n",
       "    .dataframe thead th {\n",
       "        text-align: right;\n",
       "    }\n",
       "</style>\n",
       "<table border=\"1\" class=\"dataframe\">\n",
       "  <thead>\n",
       "    <tr style=\"text-align: right;\">\n",
       "      <th></th>\n",
       "      <th>genres</th>\n",
       "      <th>app_name</th>\n",
       "      <th>specs</th>\n",
       "      <th>price</th>\n",
       "      <th>early_access</th>\n",
       "      <th>id</th>\n",
       "      <th>sentiment</th>\n",
       "      <th>metascore</th>\n",
       "      <th>year</th>\n",
       "      <th>genre_id</th>\n",
       "      <th>spec_id</th>\n",
       "    </tr>\n",
       "  </thead>\n",
       "  <tbody>\n",
       "    <tr>\n",
       "      <th>0</th>\n",
       "      <td>['Free to Play', 'Indie', 'RPG', 'Strategy']</td>\n",
       "      <td>Ironbound</td>\n",
       "      <td>['Single-player', 'Multi-player', 'Online Mult...</td>\n",
       "      <td>0.0</td>\n",
       "      <td>False</td>\n",
       "      <td>643980</td>\n",
       "      <td>Mostly Positive</td>\n",
       "      <td>0.0</td>\n",
       "      <td>2018</td>\n",
       "      <td>[20, 3, 21, 10]</td>\n",
       "      <td>[17, 20, 24, 2, 27, 4, 9]</td>\n",
       "    </tr>\n",
       "    <tr>\n",
       "      <th>1</th>\n",
       "      <td>['Casual', 'Free to Play', 'Indie', 'Simulatio...</td>\n",
       "      <td>Real Pool 3D - Poolians</td>\n",
       "      <td>['Single-player', 'Multi-player', 'Online Mult...</td>\n",
       "      <td>0.0</td>\n",
       "      <td>False</td>\n",
       "      <td>670290</td>\n",
       "      <td>Mostly Positive</td>\n",
       "      <td>0.0</td>\n",
       "      <td>2017</td>\n",
       "      <td>[17, 20, 3, 6, 11]</td>\n",
       "      <td>[17, 20, 24, 9, 14]</td>\n",
       "    </tr>\n",
       "  </tbody>\n",
       "</table>\n",
       "</div>"
      ],
      "text/plain": [
       "                                              genres                 app_name  \\\n",
       "0       ['Free to Play', 'Indie', 'RPG', 'Strategy']                Ironbound   \n",
       "1  ['Casual', 'Free to Play', 'Indie', 'Simulatio...  Real Pool 3D - Poolians   \n",
       "\n",
       "                                               specs  price  early_access  \\\n",
       "0  ['Single-player', 'Multi-player', 'Online Mult...    0.0         False   \n",
       "1  ['Single-player', 'Multi-player', 'Online Mult...    0.0         False   \n",
       "\n",
       "       id        sentiment  metascore  year            genre_id  \\\n",
       "0  643980  Mostly Positive        0.0  2018     [20, 3, 21, 10]   \n",
       "1  670290  Mostly Positive        0.0  2017  [17, 20, 3, 6, 11]   \n",
       "\n",
       "                     spec_id  \n",
       "0  [17, 20, 24, 2, 27, 4, 9]  \n",
       "1        [17, 20, 24, 9, 14]  "
      ]
     },
     "execution_count": 58,
     "metadata": {},
     "output_type": "execute_result"
    }
   ],
   "source": [
    "df2.head(2)"
   ]
  },
  {
   "cell_type": "code",
   "execution_count": 59,
   "metadata": {},
   "outputs": [
    {
     "name": "stdout",
     "output_type": "stream",
     "text": [
      "<class 'pandas.core.frame.DataFrame'>\n",
      "RangeIndex: 21528 entries, 0 to 21527\n",
      "Data columns (total 11 columns):\n",
      " #   Column        Non-Null Count  Dtype  \n",
      "---  ------        --------------  -----  \n",
      " 0   genres        21528 non-null  object \n",
      " 1   app_name      21528 non-null  object \n",
      " 2   specs         21528 non-null  object \n",
      " 3   price         21528 non-null  float64\n",
      " 4   early_access  21528 non-null  bool   \n",
      " 5   id            21528 non-null  int64  \n",
      " 6   sentiment     21528 non-null  object \n",
      " 7   metascore     21528 non-null  float64\n",
      " 8   year          21528 non-null  int64  \n",
      " 9   genre_id      21528 non-null  object \n",
      " 10  spec_id       21528 non-null  object \n",
      "dtypes: bool(1), float64(2), int64(2), object(6)\n",
      "memory usage: 1.7+ MB\n"
     ]
    }
   ],
   "source": [
    "df2.info()"
   ]
  },
  {
   "cell_type": "markdown",
   "metadata": {},
   "source": [
    "#### Feature engineering"
   ]
  },
  {
   "cell_type": "code",
   "execution_count": 60,
   "metadata": {},
   "outputs": [
    {
     "data": {
      "text/plain": [
       "0         ['Free to Play', 'Indie', 'RPG', 'Strategy']\n",
       "1    ['Casual', 'Free to Play', 'Indie', 'Simulatio...\n",
       "2                ['Action', 'Adventure', 'Simulation']\n",
       "3    ['Adventure', 'Casual', 'Indie', 'Simulation',...\n",
       "4                     ['Action', 'Adventure', 'Indie']\n",
       "Name: genres, dtype: object"
      ]
     },
     "execution_count": 60,
     "metadata": {},
     "output_type": "execute_result"
    }
   ],
   "source": [
    "df2['genres'].head()"
   ]
  },
  {
   "cell_type": "code",
   "execution_count": 5,
   "metadata": {},
   "outputs": [
    {
     "name": "stdout",
     "output_type": "stream",
     "text": [
      "['Video Production', 'Early Access', 'Adventure', 'Software Training', 'Animation &amp; Modeling', 'Photo Editing', 'Racing', 'Simulation', 'Casual', 'Indie', 'Design &amp; Illustration', 'Action', 'Massively Multiplayer', 'RPG', 'Audio Production', 'Free to Play', 'Sports', 'Education', 'Strategy', 'Web Publishing', 'Utilities']\n"
     ]
    }
   ],
   "source": [
    "#La columna categórica 'genres' tiene sus valores en forma de lista por eso debemos hacerle modificaciones hasta llegar a conseguir \n",
    "# convertirla en valores numéricos adecuados. \n",
    "\n",
    "# Convertir las cadenas de texto en listas de Python\n",
    "df2['genres'] = df2['genres'].apply(ast.literal_eval)\n",
    "\n",
    "# Obtener todos los géneros de todas las listas en la columna 'genres'\n",
    "all_genres = [genre for genres_list in df2['genres'] for genre in genres_list]\n",
    "\n",
    "# Obtener géneros únicos eliminando duplicados\n",
    "unique_genres = list(set(all_genres))\n",
    "\n",
    "print(unique_genres)"
   ]
  },
  {
   "cell_type": "code",
   "execution_count": 6,
   "metadata": {},
   "outputs": [],
   "source": [
    "# Crear una instancia de MultiLabelBinarizer con la lista de todos los géneros únicos\n",
    "mlb = MultiLabelBinarizer(classes=unique_genres)\n",
    "\n",
    "# Aplicar fit_transform para obtener la matriz binaria de géneros en todo el DataFrame\n",
    "genres_encoded = mlb.fit_transform(df2['genres'])\n",
    "\n",
    "# Crear un DataFrame con los géneros codificados\n",
    "genres_df = pd.DataFrame(genres_encoded, columns=mlb.classes_)\n",
    "\n",
    "# Concatenar el DataFrame con los géneros codificados con el DataFrame original 'df2'\n",
    "df2 = pd.concat([df2, genres_df], axis=1)\n",
    "\n",
    "# Eliminar la columna original 'genres' si ya no la necesitas\n",
    "df2.drop('genres', axis=1, inplace=True)\n"
   ]
  },
  {
   "cell_type": "code",
   "execution_count": 7,
   "metadata": {},
   "outputs": [],
   "source": [
    "#Eliminamos las columnas que no usaremos en nuestro modelo\n",
    "df2.drop(columns= [\"app_name\", \"id\", \"sentiment\", \"app_name\", \"spec_id\", \"specs\", \"genre_id\"], axis= 1, inplace = True )"
   ]
  },
  {
   "cell_type": "code",
   "execution_count": 8,
   "metadata": {},
   "outputs": [
    {
     "data": {
      "text/plain": [
       "metascore\n",
       "0.0     19039\n",
       "80.0      120\n",
       "74.0      104\n",
       "75.0      102\n",
       "77.0      102\n",
       "        ...  \n",
       "24.0        1\n",
       "95.0        1\n",
       "34.0        1\n",
       "20.0        1\n",
       "30.0        1\n",
       "Name: count, Length: 70, dtype: int64"
      ]
     },
     "execution_count": 8,
     "metadata": {},
     "output_type": "execute_result"
    }
   ],
   "source": [
    "df2.metascore.value_counts()"
   ]
  },
  {
   "cell_type": "code",
   "execution_count": 9,
   "metadata": {},
   "outputs": [],
   "source": [
    "# Eliminamos los valores igual a 0.0 de la variable \"metascore\".\n",
    "df2 = df2.drop(df2[df2['metascore'] == 0.0].index)"
   ]
  },
  {
   "cell_type": "code",
   "execution_count": 10,
   "metadata": {},
   "outputs": [
    {
     "data": {
      "text/plain": [
       "(2489, 25)"
      ]
     },
     "execution_count": 10,
     "metadata": {},
     "output_type": "execute_result"
    }
   ],
   "source": [
    "df2.shape"
   ]
  },
  {
   "cell_type": "code",
   "execution_count": 11,
   "metadata": {},
   "outputs": [
    {
     "data": {
      "text/plain": [
       "Index(['price', 'early_access', 'metascore', 'year', 'Video Production',\n",
       "       'Early Access', 'Adventure', 'Software Training',\n",
       "       'Animation &amp; Modeling', 'Photo Editing', 'Racing', 'Simulation',\n",
       "       'Casual', 'Indie', 'Design &amp; Illustration', 'Action',\n",
       "       'Massively Multiplayer', 'RPG', 'Audio Production', 'Free to Play',\n",
       "       'Sports', 'Education', 'Strategy', 'Web Publishing', 'Utilities'],\n",
       "      dtype='object')"
      ]
     },
     "execution_count": 11,
     "metadata": {},
     "output_type": "execute_result"
    }
   ],
   "source": [
    "df2.columns"
   ]
  },
  {
   "cell_type": "code",
   "execution_count": 12,
   "metadata": {},
   "outputs": [],
   "source": [
    "# La columna 'early_access' es booleana por lo que debemos convertirla a numérica. \n",
    "df2['early_access'] = df2['early_access'].astype(int)"
   ]
  },
  {
   "cell_type": "code",
   "execution_count": 13,
   "metadata": {},
   "outputs": [
    {
     "name": "stdout",
     "output_type": "stream",
     "text": [
      "<class 'pandas.core.frame.DataFrame'>\n",
      "Index: 2489 entries, 6 to 21522\n",
      "Data columns (total 25 columns):\n",
      " #   Column                     Non-Null Count  Dtype  \n",
      "---  ------                     --------------  -----  \n",
      " 0   price                      2489 non-null   float64\n",
      " 1   early_access               2489 non-null   int32  \n",
      " 2   metascore                  2489 non-null   float64\n",
      " 3   year                       2489 non-null   int64  \n",
      " 4   Video Production           2489 non-null   int32  \n",
      " 5   Early Access               2489 non-null   int32  \n",
      " 6   Adventure                  2489 non-null   int32  \n",
      " 7   Software Training          2489 non-null   int32  \n",
      " 8   Animation &amp; Modeling   2489 non-null   int32  \n",
      " 9   Photo Editing              2489 non-null   int32  \n",
      " 10  Racing                     2489 non-null   int32  \n",
      " 11  Simulation                 2489 non-null   int32  \n",
      " 12  Casual                     2489 non-null   int32  \n",
      " 13  Indie                      2489 non-null   int32  \n",
      " 14  Design &amp; Illustration  2489 non-null   int32  \n",
      " 15  Action                     2489 non-null   int32  \n",
      " 16  Massively Multiplayer      2489 non-null   int32  \n",
      " 17  RPG                        2489 non-null   int32  \n",
      " 18  Audio Production           2489 non-null   int32  \n",
      " 19  Free to Play               2489 non-null   int32  \n",
      " 20  Sports                     2489 non-null   int32  \n",
      " 21  Education                  2489 non-null   int32  \n",
      " 22  Strategy                   2489 non-null   int32  \n",
      " 23  Web Publishing             2489 non-null   int32  \n",
      " 24  Utilities                  2489 non-null   int32  \n",
      "dtypes: float64(2), int32(22), int64(1)\n",
      "memory usage: 291.7 KB\n"
     ]
    }
   ],
   "source": [
    "# Mostramos las columnas resultantes y los tipos de datos cambiados\n",
    "df2.info()"
   ]
  },
  {
   "cell_type": "code",
   "execution_count": 14,
   "metadata": {},
   "outputs": [
    {
     "data": {
      "text/html": [
       "<div>\n",
       "<style scoped>\n",
       "    .dataframe tbody tr th:only-of-type {\n",
       "        vertical-align: middle;\n",
       "    }\n",
       "\n",
       "    .dataframe tbody tr th {\n",
       "        vertical-align: top;\n",
       "    }\n",
       "\n",
       "    .dataframe thead th {\n",
       "        text-align: right;\n",
       "    }\n",
       "</style>\n",
       "<table border=\"1\" class=\"dataframe\">\n",
       "  <thead>\n",
       "    <tr style=\"text-align: right;\">\n",
       "      <th></th>\n",
       "      <th>price</th>\n",
       "      <th>early_access</th>\n",
       "      <th>metascore</th>\n",
       "      <th>year</th>\n",
       "      <th>Video Production</th>\n",
       "      <th>Early Access</th>\n",
       "      <th>Adventure</th>\n",
       "      <th>Software Training</th>\n",
       "      <th>Animation &amp;amp; Modeling</th>\n",
       "      <th>Photo Editing</th>\n",
       "      <th>...</th>\n",
       "      <th>Action</th>\n",
       "      <th>Massively Multiplayer</th>\n",
       "      <th>RPG</th>\n",
       "      <th>Audio Production</th>\n",
       "      <th>Free to Play</th>\n",
       "      <th>Sports</th>\n",
       "      <th>Education</th>\n",
       "      <th>Strategy</th>\n",
       "      <th>Web Publishing</th>\n",
       "      <th>Utilities</th>\n",
       "    </tr>\n",
       "  </thead>\n",
       "  <tbody>\n",
       "    <tr>\n",
       "      <th>6</th>\n",
       "      <td>9.99</td>\n",
       "      <td>0</td>\n",
       "      <td>96.0</td>\n",
       "      <td>1998</td>\n",
       "      <td>0</td>\n",
       "      <td>0</td>\n",
       "      <td>0</td>\n",
       "      <td>0</td>\n",
       "      <td>0</td>\n",
       "      <td>0</td>\n",
       "      <td>...</td>\n",
       "      <td>1</td>\n",
       "      <td>0</td>\n",
       "      <td>0</td>\n",
       "      <td>0</td>\n",
       "      <td>0</td>\n",
       "      <td>0</td>\n",
       "      <td>0</td>\n",
       "      <td>0</td>\n",
       "      <td>0</td>\n",
       "      <td>0</td>\n",
       "    </tr>\n",
       "    <tr>\n",
       "      <th>9</th>\n",
       "      <td>6.99</td>\n",
       "      <td>0</td>\n",
       "      <td>84.0</td>\n",
       "      <td>2006</td>\n",
       "      <td>0</td>\n",
       "      <td>0</td>\n",
       "      <td>0</td>\n",
       "      <td>0</td>\n",
       "      <td>0</td>\n",
       "      <td>0</td>\n",
       "      <td>...</td>\n",
       "      <td>0</td>\n",
       "      <td>0</td>\n",
       "      <td>0</td>\n",
       "      <td>0</td>\n",
       "      <td>0</td>\n",
       "      <td>0</td>\n",
       "      <td>0</td>\n",
       "      <td>1</td>\n",
       "      <td>0</td>\n",
       "      <td>0</td>\n",
       "    </tr>\n",
       "    <tr>\n",
       "      <th>10</th>\n",
       "      <td>6.99</td>\n",
       "      <td>0</td>\n",
       "      <td>80.0</td>\n",
       "      <td>2006</td>\n",
       "      <td>0</td>\n",
       "      <td>0</td>\n",
       "      <td>0</td>\n",
       "      <td>0</td>\n",
       "      <td>0</td>\n",
       "      <td>0</td>\n",
       "      <td>...</td>\n",
       "      <td>0</td>\n",
       "      <td>0</td>\n",
       "      <td>0</td>\n",
       "      <td>0</td>\n",
       "      <td>0</td>\n",
       "      <td>0</td>\n",
       "      <td>0</td>\n",
       "      <td>1</td>\n",
       "      <td>0</td>\n",
       "      <td>0</td>\n",
       "    </tr>\n",
       "    <tr>\n",
       "      <th>11</th>\n",
       "      <td>9.99</td>\n",
       "      <td>0</td>\n",
       "      <td>76.0</td>\n",
       "      <td>2006</td>\n",
       "      <td>0</td>\n",
       "      <td>0</td>\n",
       "      <td>0</td>\n",
       "      <td>0</td>\n",
       "      <td>0</td>\n",
       "      <td>0</td>\n",
       "      <td>...</td>\n",
       "      <td>1</td>\n",
       "      <td>0</td>\n",
       "      <td>1</td>\n",
       "      <td>0</td>\n",
       "      <td>0</td>\n",
       "      <td>0</td>\n",
       "      <td>0</td>\n",
       "      <td>0</td>\n",
       "      <td>0</td>\n",
       "      <td>0</td>\n",
       "    </tr>\n",
       "    <tr>\n",
       "      <th>17</th>\n",
       "      <td>9.99</td>\n",
       "      <td>0</td>\n",
       "      <td>70.0</td>\n",
       "      <td>2005</td>\n",
       "      <td>0</td>\n",
       "      <td>0</td>\n",
       "      <td>0</td>\n",
       "      <td>0</td>\n",
       "      <td>0</td>\n",
       "      <td>0</td>\n",
       "      <td>...</td>\n",
       "      <td>1</td>\n",
       "      <td>0</td>\n",
       "      <td>0</td>\n",
       "      <td>0</td>\n",
       "      <td>0</td>\n",
       "      <td>0</td>\n",
       "      <td>0</td>\n",
       "      <td>0</td>\n",
       "      <td>0</td>\n",
       "      <td>0</td>\n",
       "    </tr>\n",
       "  </tbody>\n",
       "</table>\n",
       "<p>5 rows × 25 columns</p>\n",
       "</div>"
      ],
      "text/plain": [
       "    price  early_access  metascore  year  Video Production  Early Access  \\\n",
       "6    9.99             0       96.0  1998                 0             0   \n",
       "9    6.99             0       84.0  2006                 0             0   \n",
       "10   6.99             0       80.0  2006                 0             0   \n",
       "11   9.99             0       76.0  2006                 0             0   \n",
       "17   9.99             0       70.0  2005                 0             0   \n",
       "\n",
       "    Adventure  Software Training  Animation &amp; Modeling  Photo Editing  \\\n",
       "6           0                  0                         0              0   \n",
       "9           0                  0                         0              0   \n",
       "10          0                  0                         0              0   \n",
       "11          0                  0                         0              0   \n",
       "17          0                  0                         0              0   \n",
       "\n",
       "    ...  Action  Massively Multiplayer  RPG  Audio Production  Free to Play  \\\n",
       "6   ...       1                      0    0                 0             0   \n",
       "9   ...       0                      0    0                 0             0   \n",
       "10  ...       0                      0    0                 0             0   \n",
       "11  ...       1                      0    1                 0             0   \n",
       "17  ...       1                      0    0                 0             0   \n",
       "\n",
       "    Sports  Education  Strategy  Web Publishing  Utilities  \n",
       "6        0          0         0               0          0  \n",
       "9        0          0         1               0          0  \n",
       "10       0          0         1               0          0  \n",
       "11       0          0         0               0          0  \n",
       "17       0          0         0               0          0  \n",
       "\n",
       "[5 rows x 25 columns]"
      ]
     },
     "execution_count": 14,
     "metadata": {},
     "output_type": "execute_result"
    }
   ],
   "source": [
    "df2.head()"
   ]
  },
  {
   "cell_type": "code",
   "execution_count": 15,
   "metadata": {},
   "outputs": [
    {
     "data": {
      "text/plain": [
       "Index(['price', 'early_access', 'metascore', 'year', 'Video Production',\n",
       "       'Early Access', 'Adventure', 'Software Training',\n",
       "       'Animation &amp; Modeling', 'Photo Editing', 'Racing', 'Simulation',\n",
       "       'Casual', 'Indie', 'Design &amp; Illustration', 'Action',\n",
       "       'Massively Multiplayer', 'RPG', 'Audio Production', 'Free to Play',\n",
       "       'Sports', 'Education', 'Strategy', 'Web Publishing', 'Utilities'],\n",
       "      dtype='object')"
      ]
     },
     "execution_count": 15,
     "metadata": {},
     "output_type": "execute_result"
    }
   ],
   "source": [
    "df2.columns\n"
   ]
  },
  {
   "cell_type": "code",
   "execution_count": 16,
   "metadata": {},
   "outputs": [],
   "source": [
    "# Paso 1: Contar la cantidad de valores iguales a 0 en la columna 'price'.\n",
    "count_zeros = (df2['price'] == 0).sum()\n",
    "\n",
    "# Paso 2: Calcular el total de filas en la columna 'price'.\n",
    "total_rows = df2['price'].count()\n",
    "\n",
    "# Paso 3: Calcular el porcentaje de valores iguales a 0.\n",
    "percentage_zeros = (count_zeros / total_rows) * 100"
   ]
  },
  {
   "cell_type": "code",
   "execution_count": 17,
   "metadata": {},
   "outputs": [
    {
     "data": {
      "text/plain": [
       "2.8927280032141423"
      ]
     },
     "execution_count": 17,
     "metadata": {},
     "output_type": "execute_result"
    }
   ],
   "source": [
    "percentage_zeros"
   ]
  },
  {
   "cell_type": "code",
   "execution_count": 18,
   "metadata": {},
   "outputs": [],
   "source": [
    "\n",
    "# df2['price'].replace(0, pd.NA, inplace=True)\n",
    "\n",
    "\n",
    "# df2.dropna(subset=['price'], inplace=True)"
   ]
  },
  {
   "cell_type": "code",
   "execution_count": 19,
   "metadata": {},
   "outputs": [],
   "source": [
    "# df2.to_csv('data_model.csv', index=False)"
   ]
  },
  {
   "cell_type": "markdown",
   "metadata": {},
   "source": [
    "#### Machine Learning"
   ]
  },
  {
   "cell_type": "markdown",
   "metadata": {},
   "source": [
    "#### Árbol de decisión"
   ]
  },
  {
   "cell_type": "code",
   "execution_count": 22,
   "metadata": {},
   "outputs": [],
   "source": [
    "#Separamos en x e y\n",
    "X = df2.drop(columns= \"price\", axis = 1)\n",
    "y = df2.price"
   ]
  },
  {
   "cell_type": "code",
   "execution_count": 23,
   "metadata": {},
   "outputs": [],
   "source": [
    "#Importamos las librerías\n",
    "from sklearn.model_selection import train_test_split\n",
    "\n",
    "#30% para test y 70% para train\n",
    "\n",
    "X_train, X_test, y_train, y_test = train_test_split(X, y, test_size = 0.30, random_state=00000)"
   ]
  },
  {
   "cell_type": "code",
   "execution_count": 34,
   "metadata": {},
   "outputs": [],
   "source": [
    "#Árbol de decisión\n",
    "from sklearn.tree import DecisionTreeRegressor\n",
    "from sklearn.model_selection import GridSearchCV\n",
    "\n",
    "#Creación de modelo\n",
    "tree = DecisionTreeRegressor(max_depth = 10, max_features = None, min_samples_leaf = 2, min_samples_split = 2, splitter = \"best\", random_state=00000)\n",
    "# tree = DecisionTreeRegressor(max_depth = 10, max_features = None, min_samples_leaf = 1, min_samples_split = 10, splitter = 'random', random_state=00000)\n"
   ]
  },
  {
   "cell_type": "code",
   "execution_count": 35,
   "metadata": {},
   "outputs": [
    {
     "data": {
      "text/html": [
       "<style>#sk-container-id-3 {color: black;}#sk-container-id-3 pre{padding: 0;}#sk-container-id-3 div.sk-toggleable {background-color: white;}#sk-container-id-3 label.sk-toggleable__label {cursor: pointer;display: block;width: 100%;margin-bottom: 0;padding: 0.3em;box-sizing: border-box;text-align: center;}#sk-container-id-3 label.sk-toggleable__label-arrow:before {content: \"▸\";float: left;margin-right: 0.25em;color: #696969;}#sk-container-id-3 label.sk-toggleable__label-arrow:hover:before {color: black;}#sk-container-id-3 div.sk-estimator:hover label.sk-toggleable__label-arrow:before {color: black;}#sk-container-id-3 div.sk-toggleable__content {max-height: 0;max-width: 0;overflow: hidden;text-align: left;background-color: #f0f8ff;}#sk-container-id-3 div.sk-toggleable__content pre {margin: 0.2em;color: black;border-radius: 0.25em;background-color: #f0f8ff;}#sk-container-id-3 input.sk-toggleable__control:checked~div.sk-toggleable__content {max-height: 200px;max-width: 100%;overflow: auto;}#sk-container-id-3 input.sk-toggleable__control:checked~label.sk-toggleable__label-arrow:before {content: \"▾\";}#sk-container-id-3 div.sk-estimator input.sk-toggleable__control:checked~label.sk-toggleable__label {background-color: #d4ebff;}#sk-container-id-3 div.sk-label input.sk-toggleable__control:checked~label.sk-toggleable__label {background-color: #d4ebff;}#sk-container-id-3 input.sk-hidden--visually {border: 0;clip: rect(1px 1px 1px 1px);clip: rect(1px, 1px, 1px, 1px);height: 1px;margin: -1px;overflow: hidden;padding: 0;position: absolute;width: 1px;}#sk-container-id-3 div.sk-estimator {font-family: monospace;background-color: #f0f8ff;border: 1px dotted black;border-radius: 0.25em;box-sizing: border-box;margin-bottom: 0.5em;}#sk-container-id-3 div.sk-estimator:hover {background-color: #d4ebff;}#sk-container-id-3 div.sk-parallel-item::after {content: \"\";width: 100%;border-bottom: 1px solid gray;flex-grow: 1;}#sk-container-id-3 div.sk-label:hover label.sk-toggleable__label {background-color: #d4ebff;}#sk-container-id-3 div.sk-serial::before {content: \"\";position: absolute;border-left: 1px solid gray;box-sizing: border-box;top: 0;bottom: 0;left: 50%;z-index: 0;}#sk-container-id-3 div.sk-serial {display: flex;flex-direction: column;align-items: center;background-color: white;padding-right: 0.2em;padding-left: 0.2em;position: relative;}#sk-container-id-3 div.sk-item {position: relative;z-index: 1;}#sk-container-id-3 div.sk-parallel {display: flex;align-items: stretch;justify-content: center;background-color: white;position: relative;}#sk-container-id-3 div.sk-item::before, #sk-container-id-3 div.sk-parallel-item::before {content: \"\";position: absolute;border-left: 1px solid gray;box-sizing: border-box;top: 0;bottom: 0;left: 50%;z-index: -1;}#sk-container-id-3 div.sk-parallel-item {display: flex;flex-direction: column;z-index: 1;position: relative;background-color: white;}#sk-container-id-3 div.sk-parallel-item:first-child::after {align-self: flex-end;width: 50%;}#sk-container-id-3 div.sk-parallel-item:last-child::after {align-self: flex-start;width: 50%;}#sk-container-id-3 div.sk-parallel-item:only-child::after {width: 0;}#sk-container-id-3 div.sk-dashed-wrapped {border: 1px dashed gray;margin: 0 0.4em 0.5em 0.4em;box-sizing: border-box;padding-bottom: 0.4em;background-color: white;}#sk-container-id-3 div.sk-label label {font-family: monospace;font-weight: bold;display: inline-block;line-height: 1.2em;}#sk-container-id-3 div.sk-label-container {text-align: center;}#sk-container-id-3 div.sk-container {/* jupyter's `normalize.less` sets `[hidden] { display: none; }` but bootstrap.min.css set `[hidden] { display: none !important; }` so we also need the `!important` here to be able to override the default hidden behavior on the sphinx rendered scikit-learn.org. See: https://github.com/scikit-learn/scikit-learn/issues/21755 */display: inline-block !important;position: relative;}#sk-container-id-3 div.sk-text-repr-fallback {display: none;}</style><div id=\"sk-container-id-3\" class=\"sk-top-container\"><div class=\"sk-text-repr-fallback\"><pre>DecisionTreeRegressor(max_depth=10, min_samples_leaf=2, random_state=0)</pre><b>In a Jupyter environment, please rerun this cell to show the HTML representation or trust the notebook. <br />On GitHub, the HTML representation is unable to render, please try loading this page with nbviewer.org.</b></div><div class=\"sk-container\" hidden><div class=\"sk-item\"><div class=\"sk-estimator sk-toggleable\"><input class=\"sk-toggleable__control sk-hidden--visually\" id=\"sk-estimator-id-3\" type=\"checkbox\" checked><label for=\"sk-estimator-id-3\" class=\"sk-toggleable__label sk-toggleable__label-arrow\">DecisionTreeRegressor</label><div class=\"sk-toggleable__content\"><pre>DecisionTreeRegressor(max_depth=10, min_samples_leaf=2, random_state=0)</pre></div></div></div></div></div>"
      ],
      "text/plain": [
       "DecisionTreeRegressor(max_depth=10, min_samples_leaf=2, random_state=0)"
      ]
     },
     "execution_count": 35,
     "metadata": {},
     "output_type": "execute_result"
    }
   ],
   "source": [
    "#Entrenamiento \n",
    "tree.fit(X_train, y_train)"
   ]
  },
  {
   "cell_type": "code",
   "execution_count": 320,
   "metadata": {},
   "outputs": [],
   "source": [
    "#Con Grid Search buscamos los mejores hiperparámetros para el modelo\n",
    "\n",
    "param_grid = {\n",
    "    # 'criterion': ['poisson', 'friedman_mse', 'absolute_error', 'squared_error'],\n",
    "    'splitter': ['best', 'random'],\n",
    "    'max_depth': [None, 10, 20, 30],  # Puedes añadir más valores aquí.\n",
    "    'min_samples_split': [2, 5, 10],  # Puedes añadir más valores aquí.\n",
    "    'min_samples_leaf': [1, 2, 4],    # Puedes añadir más valores aquí.\n",
    "    'max_features': [None, 'auto', 'sqrt', 'log2'],\n",
    "    # 'min_impurity_decrease': [0.0, 0.1, 0.2],  # Puedes añadir más valores aquí.\n",
    "    \n",
    "}"
   ]
  },
  {
   "cell_type": "code",
   "execution_count": 321,
   "metadata": {},
   "outputs": [
    {
     "name": "stderr",
     "output_type": "stream",
     "text": [
      "c:\\Users\\USUARIO\\Desktop\\P1MLOps\\venv\\Lib\\site-packages\\sklearn\\model_selection\\_validation.py:425: FitFailedWarning: \n",
      "360 fits failed out of a total of 1440.\n",
      "The score on these train-test partitions for these parameters will be set to nan.\n",
      "If these failures are not expected, you can try to debug them by setting error_score='raise'.\n",
      "\n",
      "Below are more details about the failures:\n",
      "--------------------------------------------------------------------------------\n",
      "360 fits failed with the following error:\n",
      "Traceback (most recent call last):\n",
      "  File \"c:\\Users\\USUARIO\\Desktop\\P1MLOps\\venv\\Lib\\site-packages\\sklearn\\model_selection\\_validation.py\", line 732, in _fit_and_score\n",
      "    estimator.fit(X_train, y_train, **fit_params)\n",
      "  File \"c:\\Users\\USUARIO\\Desktop\\P1MLOps\\venv\\Lib\\site-packages\\sklearn\\base.py\", line 1144, in wrapper\n",
      "    estimator._validate_params()\n",
      "  File \"c:\\Users\\USUARIO\\Desktop\\P1MLOps\\venv\\Lib\\site-packages\\sklearn\\base.py\", line 637, in _validate_params\n",
      "    validate_parameter_constraints(\n",
      "  File \"c:\\Users\\USUARIO\\Desktop\\P1MLOps\\venv\\Lib\\site-packages\\sklearn\\utils\\_param_validation.py\", line 95, in validate_parameter_constraints\n",
      "    raise InvalidParameterError(\n",
      "sklearn.utils._param_validation.InvalidParameterError: The 'max_features' parameter of DecisionTreeRegressor must be an int in the range [1, inf), a float in the range (0.0, 1.0], a str among {'log2', 'sqrt'} or None. Got 'auto' instead.\n",
      "\n",
      "  warnings.warn(some_fits_failed_message, FitFailedWarning)\n",
      "c:\\Users\\USUARIO\\Desktop\\P1MLOps\\venv\\Lib\\site-packages\\sklearn\\model_selection\\_search.py:976: UserWarning: One or more of the test scores are non-finite: [-0.11223012 -0.04702643 -0.00390631  0.07638031  0.0851319   0.18641131\n",
      "  0.0475393   0.18436806  0.08467898  0.15736652  0.2022629   0.26230635\n",
      "  0.19245597  0.31135136  0.19372662  0.28258098  0.20899214  0.26389036\n",
      "         nan         nan         nan         nan         nan         nan\n",
      "         nan         nan         nan         nan         nan         nan\n",
      "         nan         nan         nan         nan         nan         nan\n",
      " -0.11087471 -0.13934857  0.02098857  0.0611838   0.1521738   0.19786735\n",
      "  0.13335695  0.15158406  0.20486756  0.13594012  0.12696754  0.18841446\n",
      "  0.19375695  0.16185717  0.21860236  0.22029787  0.16235843  0.10038008\n",
      " -0.08279533 -0.17755695 -0.05418793  0.0966161   0.14885158  0.18802131\n",
      "  0.19848269  0.14038234  0.14970934  0.20593669  0.20939149  0.06511839\n",
      "  0.22959996  0.11646062  0.12155576  0.13185811  0.13288375  0.09752392\n",
      "  0.16001169  0.29697596  0.17244182  0.28202703  0.19980322  0.34742178\n",
      "  0.18034595  0.33158218  0.20700543  0.19884254  0.2707074   0.28671975\n",
      "  0.24713426  0.33251566  0.24819067  0.30574635  0.25651573  0.31602218\n",
      "         nan         nan         nan         nan         nan         nan\n",
      "         nan         nan         nan         nan         nan         nan\n",
      "         nan         nan         nan         nan         nan         nan\n",
      "  0.14319565  0.13632217  0.19005155  0.19237834  0.1729873   0.18175787\n",
      "  0.1945274   0.18082612  0.18126536  0.14557661  0.2286338   0.1894775\n",
      "  0.18749819  0.15245569  0.24737143  0.12367886  0.17372654  0.18561137\n",
      "  0.17999864  0.12990349  0.15766815  0.17942287  0.21675327  0.14089789\n",
      "  0.16066164  0.1366929   0.17909708  0.18474751  0.19087387  0.17565708\n",
      "  0.21587566  0.13960661  0.21005587  0.12088877  0.18515233  0.15114747\n",
      " -0.14406939 -0.06572626  0.00074624  0.11316725  0.08624208  0.27788985\n",
      "  0.04477393  0.21425961  0.08738867  0.13822499  0.20379181  0.25607527\n",
      "  0.19459064  0.26637227  0.19267751  0.28169824  0.20815983  0.26015674\n",
      "         nan         nan         nan         nan         nan         nan\n",
      "         nan         nan         nan         nan         nan         nan\n",
      "         nan         nan         nan         nan         nan         nan\n",
      " -0.17567845 -0.05812476  0.04539593  0.11881666  0.1649961   0.18150495\n",
      "  0.09358332  0.15630086  0.11262481  0.20517005  0.22479213  0.08550405\n",
      "  0.14967756  0.14917264  0.18480347  0.1096775   0.12963081  0.12170181\n",
      " -0.08715021 -0.06545645  0.08218424  0.13228399  0.12532408  0.18165449\n",
      "  0.12018272  0.11714127  0.13326006  0.22707892  0.18944933  0.15122374\n",
      "  0.19974592  0.19564345  0.14489188  0.23106535  0.18386264  0.20500549\n",
      " -0.11673291 -0.16595819 -0.01962278  0.12105723  0.09044849  0.23623327\n",
      "  0.04307293  0.19640537  0.08414316  0.18956097  0.20309144  0.21431235\n",
      "  0.1921628   0.29737098  0.193999    0.24450759  0.2088538   0.30241661\n",
      "         nan         nan         nan         nan         nan         nan\n",
      "         nan         nan         nan         nan         nan         nan\n",
      "         nan         nan         nan         nan         nan         nan\n",
      " -0.10883923 -0.10862644  0.05261533  0.12314859  0.13565873  0.16655671\n",
      "  0.11911918  0.20369439  0.17341666  0.13566435  0.24466396  0.16714089\n",
      "  0.19934967  0.2008391   0.17038644  0.17545373  0.15893538  0.17337742\n",
      " -0.13770956 -0.03517978  0.02349661  0.04266995  0.16109721  0.18334301\n",
      "  0.14058     0.1499295   0.11649987  0.1218782   0.23676329  0.22629897\n",
      "  0.20118938  0.08151606  0.17143127  0.12270786  0.17399122  0.17121924]\n",
      "  warnings.warn(\n"
     ]
    },
    {
     "data": {
      "text/html": [
       "<style>#sk-container-id-19 {color: black;}#sk-container-id-19 pre{padding: 0;}#sk-container-id-19 div.sk-toggleable {background-color: white;}#sk-container-id-19 label.sk-toggleable__label {cursor: pointer;display: block;width: 100%;margin-bottom: 0;padding: 0.3em;box-sizing: border-box;text-align: center;}#sk-container-id-19 label.sk-toggleable__label-arrow:before {content: \"▸\";float: left;margin-right: 0.25em;color: #696969;}#sk-container-id-19 label.sk-toggleable__label-arrow:hover:before {color: black;}#sk-container-id-19 div.sk-estimator:hover label.sk-toggleable__label-arrow:before {color: black;}#sk-container-id-19 div.sk-toggleable__content {max-height: 0;max-width: 0;overflow: hidden;text-align: left;background-color: #f0f8ff;}#sk-container-id-19 div.sk-toggleable__content pre {margin: 0.2em;color: black;border-radius: 0.25em;background-color: #f0f8ff;}#sk-container-id-19 input.sk-toggleable__control:checked~div.sk-toggleable__content {max-height: 200px;max-width: 100%;overflow: auto;}#sk-container-id-19 input.sk-toggleable__control:checked~label.sk-toggleable__label-arrow:before {content: \"▾\";}#sk-container-id-19 div.sk-estimator input.sk-toggleable__control:checked~label.sk-toggleable__label {background-color: #d4ebff;}#sk-container-id-19 div.sk-label input.sk-toggleable__control:checked~label.sk-toggleable__label {background-color: #d4ebff;}#sk-container-id-19 input.sk-hidden--visually {border: 0;clip: rect(1px 1px 1px 1px);clip: rect(1px, 1px, 1px, 1px);height: 1px;margin: -1px;overflow: hidden;padding: 0;position: absolute;width: 1px;}#sk-container-id-19 div.sk-estimator {font-family: monospace;background-color: #f0f8ff;border: 1px dotted black;border-radius: 0.25em;box-sizing: border-box;margin-bottom: 0.5em;}#sk-container-id-19 div.sk-estimator:hover {background-color: #d4ebff;}#sk-container-id-19 div.sk-parallel-item::after {content: \"\";width: 100%;border-bottom: 1px solid gray;flex-grow: 1;}#sk-container-id-19 div.sk-label:hover label.sk-toggleable__label {background-color: #d4ebff;}#sk-container-id-19 div.sk-serial::before {content: \"\";position: absolute;border-left: 1px solid gray;box-sizing: border-box;top: 0;bottom: 0;left: 50%;z-index: 0;}#sk-container-id-19 div.sk-serial {display: flex;flex-direction: column;align-items: center;background-color: white;padding-right: 0.2em;padding-left: 0.2em;position: relative;}#sk-container-id-19 div.sk-item {position: relative;z-index: 1;}#sk-container-id-19 div.sk-parallel {display: flex;align-items: stretch;justify-content: center;background-color: white;position: relative;}#sk-container-id-19 div.sk-item::before, #sk-container-id-19 div.sk-parallel-item::before {content: \"\";position: absolute;border-left: 1px solid gray;box-sizing: border-box;top: 0;bottom: 0;left: 50%;z-index: -1;}#sk-container-id-19 div.sk-parallel-item {display: flex;flex-direction: column;z-index: 1;position: relative;background-color: white;}#sk-container-id-19 div.sk-parallel-item:first-child::after {align-self: flex-end;width: 50%;}#sk-container-id-19 div.sk-parallel-item:last-child::after {align-self: flex-start;width: 50%;}#sk-container-id-19 div.sk-parallel-item:only-child::after {width: 0;}#sk-container-id-19 div.sk-dashed-wrapped {border: 1px dashed gray;margin: 0 0.4em 0.5em 0.4em;box-sizing: border-box;padding-bottom: 0.4em;background-color: white;}#sk-container-id-19 div.sk-label label {font-family: monospace;font-weight: bold;display: inline-block;line-height: 1.2em;}#sk-container-id-19 div.sk-label-container {text-align: center;}#sk-container-id-19 div.sk-container {/* jupyter's `normalize.less` sets `[hidden] { display: none; }` but bootstrap.min.css set `[hidden] { display: none !important; }` so we also need the `!important` here to be able to override the default hidden behavior on the sphinx rendered scikit-learn.org. See: https://github.com/scikit-learn/scikit-learn/issues/21755 */display: inline-block !important;position: relative;}#sk-container-id-19 div.sk-text-repr-fallback {display: none;}</style><div id=\"sk-container-id-19\" class=\"sk-top-container\"><div class=\"sk-text-repr-fallback\"><pre>GridSearchCV(cv=5, estimator=DecisionTreeRegressor(),\n",
       "             param_grid={&#x27;max_depth&#x27;: [None, 10, 20, 30],\n",
       "                         &#x27;max_features&#x27;: [None, &#x27;auto&#x27;, &#x27;sqrt&#x27;, &#x27;log2&#x27;],\n",
       "                         &#x27;min_samples_leaf&#x27;: [1, 2, 4],\n",
       "                         &#x27;min_samples_split&#x27;: [2, 5, 10],\n",
       "                         &#x27;splitter&#x27;: [&#x27;best&#x27;, &#x27;random&#x27;]})</pre><b>In a Jupyter environment, please rerun this cell to show the HTML representation or trust the notebook. <br />On GitHub, the HTML representation is unable to render, please try loading this page with nbviewer.org.</b></div><div class=\"sk-container\" hidden><div class=\"sk-item sk-dashed-wrapped\"><div class=\"sk-label-container\"><div class=\"sk-label sk-toggleable\"><input class=\"sk-toggleable__control sk-hidden--visually\" id=\"sk-estimator-id-31\" type=\"checkbox\" ><label for=\"sk-estimator-id-31\" class=\"sk-toggleable__label sk-toggleable__label-arrow\">GridSearchCV</label><div class=\"sk-toggleable__content\"><pre>GridSearchCV(cv=5, estimator=DecisionTreeRegressor(),\n",
       "             param_grid={&#x27;max_depth&#x27;: [None, 10, 20, 30],\n",
       "                         &#x27;max_features&#x27;: [None, &#x27;auto&#x27;, &#x27;sqrt&#x27;, &#x27;log2&#x27;],\n",
       "                         &#x27;min_samples_leaf&#x27;: [1, 2, 4],\n",
       "                         &#x27;min_samples_split&#x27;: [2, 5, 10],\n",
       "                         &#x27;splitter&#x27;: [&#x27;best&#x27;, &#x27;random&#x27;]})</pre></div></div></div><div class=\"sk-parallel\"><div class=\"sk-parallel-item\"><div class=\"sk-item\"><div class=\"sk-label-container\"><div class=\"sk-label sk-toggleable\"><input class=\"sk-toggleable__control sk-hidden--visually\" id=\"sk-estimator-id-32\" type=\"checkbox\" ><label for=\"sk-estimator-id-32\" class=\"sk-toggleable__label sk-toggleable__label-arrow\">estimator: DecisionTreeRegressor</label><div class=\"sk-toggleable__content\"><pre>DecisionTreeRegressor()</pre></div></div></div><div class=\"sk-serial\"><div class=\"sk-item\"><div class=\"sk-estimator sk-toggleable\"><input class=\"sk-toggleable__control sk-hidden--visually\" id=\"sk-estimator-id-33\" type=\"checkbox\" ><label for=\"sk-estimator-id-33\" class=\"sk-toggleable__label sk-toggleable__label-arrow\">DecisionTreeRegressor</label><div class=\"sk-toggleable__content\"><pre>DecisionTreeRegressor()</pre></div></div></div></div></div></div></div></div></div></div>"
      ],
      "text/plain": [
       "GridSearchCV(cv=5, estimator=DecisionTreeRegressor(),\n",
       "             param_grid={'max_depth': [None, 10, 20, 30],\n",
       "                         'max_features': [None, 'auto', 'sqrt', 'log2'],\n",
       "                         'min_samples_leaf': [1, 2, 4],\n",
       "                         'min_samples_split': [2, 5, 10],\n",
       "                         'splitter': ['best', 'random']})"
      ]
     },
     "execution_count": 321,
     "metadata": {},
     "output_type": "execute_result"
    }
   ],
   "source": [
    "#Instancio el modelo\n",
    "rf = DecisionTreeRegressor()\n",
    "\n",
    "# Le pasamos la grilla que creamos\n",
    "model = GridSearchCV(rf, param_grid=param_grid, cv=5) \n",
    "\n",
    "# Entrenamos\n",
    "model.fit(X_train, y_train)"
   ]
  },
  {
   "cell_type": "code",
   "execution_count": 322,
   "metadata": {},
   "outputs": [
    {
     "name": "stdout",
     "output_type": "stream",
     "text": [
      "Mejores hiperparámetros: {'max_depth': 10, 'max_features': None, 'min_samples_leaf': 1, 'min_samples_split': 10, 'splitter': 'random'}\n",
      "Mejor Score: 0.34742177778163974\n",
      "\n"
     ]
    }
   ],
   "source": [
    "print(\"Mejores hiperparámetros: \"+str(model.best_params_))\n",
    "print(\"Mejor Score: \"+str(model.best_score_)+'\\n')"
   ]
  },
  {
   "cell_type": "code",
   "execution_count": 323,
   "metadata": {},
   "outputs": [
    {
     "name": "stdout",
     "output_type": "stream",
     "text": [
      "Mejor RMSE: nan\n",
      "Mejores Hiperparámetros:\n",
      "max_depth: 10\n",
      "max_features: None\n",
      "min_samples_leaf: 1\n",
      "min_samples_split: 10\n",
      "splitter: random\n"
     ]
    },
    {
     "name": "stderr",
     "output_type": "stream",
     "text": [
      "C:\\Users\\USUARIO\\AppData\\Local\\Temp\\ipykernel_4332\\417080470.py:5: RuntimeWarning: invalid value encountered in sqrt\n",
      "  best_rmse = np.sqrt(-best_score)\n"
     ]
    }
   ],
   "source": [
    "# Obtener el mejor puntaje (que podría ser negativo dependiendo del criterio de optimización).\n",
    "best_score = model.best_score_\n",
    "\n",
    "# Calcular el RMSE correspondiente (asumiendo que el modelo utiliza MSE como criterio de evaluación).\n",
    "best_rmse = np.sqrt(-best_score)\n",
    "\n",
    "# Obtener los mejores hiperparámetros.\n",
    "best_hyperparameters = model.best_params_\n",
    "\n",
    "# Imprimir los resultados.\n",
    "print(\"Mejor RMSE: {:.4f}\".format(best_rmse))\n",
    "print(\"Mejores Hiperparámetros:\")\n",
    "for param, value in best_hyperparameters.items():\n",
    "    print(\"{}: {}\".format(param, value))"
   ]
  },
  {
   "cell_type": "markdown",
   "metadata": {},
   "source": [
    "* Evalucación del modelo"
   ]
  },
  {
   "cell_type": "code",
   "execution_count": 36,
   "metadata": {},
   "outputs": [],
   "source": [
    "#Calculo de las predicciones de Train y Test\n",
    "y_train_pred = tree.predict(X_train)\n",
    "y_test_pred = tree.predict(X_test)"
   ]
  },
  {
   "cell_type": "code",
   "execution_count": 37,
   "metadata": {},
   "outputs": [
    {
     "name": "stdout",
     "output_type": "stream",
     "text": [
      " El rmse en train es 39.976361374897685\n",
      " El rmse en test es 105.4658258764613\n"
     ]
    }
   ],
   "source": [
    "#Calculo de métricas\n",
    "from sklearn.metrics import mean_squared_error\n",
    "\n",
    "#Calculo RMSE en Train\n",
    "rmse_train = mean_squared_error(y_train, y_train_pred)\n",
    "\n",
    "#Calculo RMSE en Test\n",
    "rmse_test = mean_squared_error(y_test, y_test_pred)\n",
    "\n",
    "print(\" El rmse en train es\", rmse_train)\n",
    "print(\" El rmse en test es\", rmse_test)"
   ]
  },
  {
   "cell_type": "code",
   "execution_count": 326,
   "metadata": {},
   "outputs": [],
   "source": [
    "# # Obtén el predictor del modelo\n",
    "# predictor = tree.predict\n",
    "\n",
    "# # Guarda el predictor en un archivo\n",
    "# with open('predictor.pkl', 'wb') as archivo:\n",
    "#     pickle.dump(predictor, archivo)"
   ]
  },
  {
   "cell_type": "code",
   "execution_count": 327,
   "metadata": {},
   "outputs": [],
   "source": [
    "# predictions = tree.predict(df2[\"erlyacces\", \"Accion\", \"nombres de generos\", ])\n",
    "\n",
    "# # sismos_predecir[\"fallecidos\"] = predictions\n",
    "# print(predictions)"
   ]
  },
  {
   "cell_type": "code",
   "execution_count": 328,
   "metadata": {},
   "outputs": [
    {
     "data": {
      "text/plain": [
       "<function matplotlib.pyplot.show(close=None, block=None)>"
      ]
     },
     "execution_count": 328,
     "metadata": {},
     "output_type": "execute_result"
    },
    {
     "data": {
      "image/png": "[encoded data removed]",
      "text/plain": [
       "<Figure size 640x480 with 1 Axes>"
      ]
     },
     "metadata": {},
     "output_type": "display_data"
    }
   ],
   "source": [
    "import seaborn as sns\n",
    "\n",
    "importances = tree.feature_importances_\n",
    "columns = X.columns\n",
    "sns.barplot(x = importances, y = columns, palette=\"bright\", saturation = 2.0)\n",
    "plt.show"
   ]
  },
  {
   "cell_type": "markdown",
   "metadata": {},
   "source": [
    "#### Random forest"
   ]
  },
  {
   "cell_type": "code",
   "execution_count": 44,
   "metadata": {},
   "outputs": [],
   "source": [
    "#Separamos en x e y\n",
    "X = df2.drop(columns= \"price\", axis = 1)\n",
    "y = df2.price"
   ]
  },
  {
   "cell_type": "code",
   "execution_count": 45,
   "metadata": {},
   "outputs": [],
   "source": [
    "#Importamos las librerías\n",
    "from sklearn.model_selection import train_test_split\n",
    "\n",
    "#30% para test y 70% para train\n",
    "\n",
    "X_train, X_test, y_train, y_test = train_test_split(X, y, test_size = 0.30, random_state=00000)"
   ]
  },
  {
   "cell_type": "code",
   "execution_count": 46,
   "metadata": {},
   "outputs": [],
   "source": [
    "#Árbol de decisión\n",
    "from sklearn.ensemble import RandomForestRegressor\n",
    "\n",
    "#Creación de modelo\n",
    "random_forest= RandomForestRegressor(max_depth = 10, max_features = None, min_samples_leaf = 1, min_samples_split = 5, random_state=00000)\n",
    "# random_forest= RandomForestRegressor(criterion = \"friedman_mse\", max_depth = 10, max_features = 'log2', min_samples_leaf = 1, min_samples_split = 2, random_state=00000)"
   ]
  },
  {
   "cell_type": "code",
   "execution_count": 47,
   "metadata": {},
   "outputs": [
    {
     "data": {
      "text/html": [
       "<style>#sk-container-id-5 {color: black;}#sk-container-id-5 pre{padding: 0;}#sk-container-id-5 div.sk-toggleable {background-color: white;}#sk-container-id-5 label.sk-toggleable__label {cursor: pointer;display: block;width: 100%;margin-bottom: 0;padding: 0.3em;box-sizing: border-box;text-align: center;}#sk-container-id-5 label.sk-toggleable__label-arrow:before {content: \"▸\";float: left;margin-right: 0.25em;color: #696969;}#sk-container-id-5 label.sk-toggleable__label-arrow:hover:before {color: black;}#sk-container-id-5 div.sk-estimator:hover label.sk-toggleable__label-arrow:before {color: black;}#sk-container-id-5 div.sk-toggleable__content {max-height: 0;max-width: 0;overflow: hidden;text-align: left;background-color: #f0f8ff;}#sk-container-id-5 div.sk-toggleable__content pre {margin: 0.2em;color: black;border-radius: 0.25em;background-color: #f0f8ff;}#sk-container-id-5 input.sk-toggleable__control:checked~div.sk-toggleable__content {max-height: 200px;max-width: 100%;overflow: auto;}#sk-container-id-5 input.sk-toggleable__control:checked~label.sk-toggleable__label-arrow:before {content: \"▾\";}#sk-container-id-5 div.sk-estimator input.sk-toggleable__control:checked~label.sk-toggleable__label {background-color: #d4ebff;}#sk-container-id-5 div.sk-label input.sk-toggleable__control:checked~label.sk-toggleable__label {background-color: #d4ebff;}#sk-container-id-5 input.sk-hidden--visually {border: 0;clip: rect(1px 1px 1px 1px);clip: rect(1px, 1px, 1px, 1px);height: 1px;margin: -1px;overflow: hidden;padding: 0;position: absolute;width: 1px;}#sk-container-id-5 div.sk-estimator {font-family: monospace;background-color: #f0f8ff;border: 1px dotted black;border-radius: 0.25em;box-sizing: border-box;margin-bottom: 0.5em;}#sk-container-id-5 div.sk-estimator:hover {background-color: #d4ebff;}#sk-container-id-5 div.sk-parallel-item::after {content: \"\";width: 100%;border-bottom: 1px solid gray;flex-grow: 1;}#sk-container-id-5 div.sk-label:hover label.sk-toggleable__label {background-color: #d4ebff;}#sk-container-id-5 div.sk-serial::before {content: \"\";position: absolute;border-left: 1px solid gray;box-sizing: border-box;top: 0;bottom: 0;left: 50%;z-index: 0;}#sk-container-id-5 div.sk-serial {display: flex;flex-direction: column;align-items: center;background-color: white;padding-right: 0.2em;padding-left: 0.2em;position: relative;}#sk-container-id-5 div.sk-item {position: relative;z-index: 1;}#sk-container-id-5 div.sk-parallel {display: flex;align-items: stretch;justify-content: center;background-color: white;position: relative;}#sk-container-id-5 div.sk-item::before, #sk-container-id-5 div.sk-parallel-item::before {content: \"\";position: absolute;border-left: 1px solid gray;box-sizing: border-box;top: 0;bottom: 0;left: 50%;z-index: -1;}#sk-container-id-5 div.sk-parallel-item {display: flex;flex-direction: column;z-index: 1;position: relative;background-color: white;}#sk-container-id-5 div.sk-parallel-item:first-child::after {align-self: flex-end;width: 50%;}#sk-container-id-5 div.sk-parallel-item:last-child::after {align-self: flex-start;width: 50%;}#sk-container-id-5 div.sk-parallel-item:only-child::after {width: 0;}#sk-container-id-5 div.sk-dashed-wrapped {border: 1px dashed gray;margin: 0 0.4em 0.5em 0.4em;box-sizing: border-box;padding-bottom: 0.4em;background-color: white;}#sk-container-id-5 div.sk-label label {font-family: monospace;font-weight: bold;display: inline-block;line-height: 1.2em;}#sk-container-id-5 div.sk-label-container {text-align: center;}#sk-container-id-5 div.sk-container {/* jupyter's `normalize.less` sets `[hidden] { display: none; }` but bootstrap.min.css set `[hidden] { display: none !important; }` so we also need the `!important` here to be able to override the default hidden behavior on the sphinx rendered scikit-learn.org. See: https://github.com/scikit-learn/scikit-learn/issues/21755 */display: inline-block !important;position: relative;}#sk-container-id-5 div.sk-text-repr-fallback {display: none;}</style><div id=\"sk-container-id-5\" class=\"sk-top-container\"><div class=\"sk-text-repr-fallback\"><pre>RandomForestRegressor(max_depth=10, max_features=None, min_samples_split=5,\n",
       "                      random_state=0)</pre><b>In a Jupyter environment, please rerun this cell to show the HTML representation or trust the notebook. <br />On GitHub, the HTML representation is unable to render, please try loading this page with nbviewer.org.</b></div><div class=\"sk-container\" hidden><div class=\"sk-item\"><div class=\"sk-estimator sk-toggleable\"><input class=\"sk-toggleable__control sk-hidden--visually\" id=\"sk-estimator-id-5\" type=\"checkbox\" checked><label for=\"sk-estimator-id-5\" class=\"sk-toggleable__label sk-toggleable__label-arrow\">RandomForestRegressor</label><div class=\"sk-toggleable__content\"><pre>RandomForestRegressor(max_depth=10, max_features=None, min_samples_split=5,\n",
       "                      random_state=0)</pre></div></div></div></div></div>"
      ],
      "text/plain": [
       "RandomForestRegressor(max_depth=10, max_features=None, min_samples_split=5,\n",
       "                      random_state=0)"
      ]
     },
     "execution_count": 47,
     "metadata": {},
     "output_type": "execute_result"
    }
   ],
   "source": [
    "#Entrenamiento \n",
    "random_forest.fit(X_train, y_train)"
   ]
  },
  {
   "cell_type": "code",
   "execution_count": 334,
   "metadata": {},
   "outputs": [],
   "source": [
    "param_grid = {\n",
    "    'criterion': ['poisson', 'friedman_mse', 'absolute_error', 'squared_error'],\n",
    "    # 'splitter': ['best', 'random'],\n",
    "    'max_depth': [None, 10, 20, 30],  # Puedes añadir más valores aquí.\n",
    "    'min_samples_split': [2, 5, 10],  # Puedes añadir más valores aquí.\n",
    "    'min_samples_leaf': [1, 2, 4],    # Puedes añadir más valores aquí.\n",
    "    'max_features': [None, 'auto', 'sqrt', 'log2'],\n",
    "    #'min_impurity_decrease': [0.0, 0.1, 0.2],  # Puedes añadir más valores aquí.\n",
    "    \n",
    "}"
   ]
  },
  {
   "cell_type": "code",
   "execution_count": 335,
   "metadata": {},
   "outputs": [
    {
     "name": "stderr",
     "output_type": "stream",
     "text": [
      "c:\\Users\\USUARIO\\Desktop\\P1MLOps\\venv\\Lib\\site-packages\\sklearn\\model_selection\\_validation.py:425: FitFailedWarning: \n",
      "720 fits failed out of a total of 2880.\n",
      "The score on these train-test partitions for these parameters will be set to nan.\n",
      "If these failures are not expected, you can try to debug them by setting error_score='raise'.\n",
      "\n",
      "Below are more details about the failures:\n",
      "--------------------------------------------------------------------------------\n",
      "720 fits failed with the following error:\n",
      "Traceback (most recent call last):\n",
      "  File \"c:\\Users\\USUARIO\\Desktop\\P1MLOps\\venv\\Lib\\site-packages\\sklearn\\model_selection\\_validation.py\", line 732, in _fit_and_score\n",
      "    estimator.fit(X_train, y_train, **fit_params)\n",
      "  File \"c:\\Users\\USUARIO\\Desktop\\P1MLOps\\venv\\Lib\\site-packages\\sklearn\\base.py\", line 1144, in wrapper\n",
      "    estimator._validate_params()\n",
      "  File \"c:\\Users\\USUARIO\\Desktop\\P1MLOps\\venv\\Lib\\site-packages\\sklearn\\base.py\", line 637, in _validate_params\n",
      "    validate_parameter_constraints(\n",
      "  File \"c:\\Users\\USUARIO\\Desktop\\P1MLOps\\venv\\Lib\\site-packages\\sklearn\\utils\\_param_validation.py\", line 95, in validate_parameter_constraints\n",
      "    raise InvalidParameterError(\n",
      "sklearn.utils._param_validation.InvalidParameterError: The 'max_features' parameter of RandomForestRegressor must be an int in the range [1, inf), a float in the range (0.0, 1.0], a str among {'log2', 'sqrt'} or None. Got 'auto' instead.\n",
      "\n",
      "  warnings.warn(some_fits_failed_message, FitFailedWarning)\n",
      "c:\\Users\\USUARIO\\Desktop\\P1MLOps\\venv\\Lib\\site-packages\\sklearn\\model_selection\\_search.py:976: UserWarning: One or more of the test scores are non-finite: [0.27856677 0.30155516 0.31947366 0.3244913  0.3212352  0.34205718\n",
      " 0.34263948 0.33938683 0.34041585        nan        nan        nan\n",
      "        nan        nan        nan        nan        nan        nan\n",
      " 0.31456739 0.33780447 0.33792163 0.32947276 0.32865221 0.32790582\n",
      " 0.31571919 0.31115662 0.29826779 0.31340962 0.33716936 0.33269859\n",
      " 0.32601735 0.32871409 0.32870862 0.31352567 0.31379437 0.3083549\n",
      " 0.31886707 0.32779848 0.34206484 0.33995551 0.34661124 0.34875159\n",
      " 0.34897882 0.34787683 0.35166743        nan        nan        nan\n",
      "        nan        nan        nan        nan        nan        nan\n",
      " 0.33680985 0.33028185 0.33302649 0.32244595 0.32349021 0.31867623\n",
      " 0.30438603 0.30489595 0.29523774 0.33495356 0.33815757 0.32517189\n",
      " 0.32045331 0.31990342 0.31735243 0.30262839 0.30124474 0.30210644\n",
      " 0.27806149 0.30843055 0.33290756 0.31877042 0.32573027 0.33597727\n",
      " 0.34657508 0.33337304 0.33854696        nan        nan        nan\n",
      "        nan        nan        nan        nan        nan        nan\n",
      " 0.31643736 0.33328631 0.3360459  0.33242174 0.33078309 0.32781079\n",
      " 0.31417362 0.30397118 0.30887171 0.31899525 0.33233616 0.34418951\n",
      " 0.32744587 0.33249228 0.33102917 0.30234662 0.31299632 0.30932488\n",
      " 0.26993642 0.29725192 0.3255952  0.32090656 0.32176843 0.34096326\n",
      " 0.34765851 0.336931   0.33908071        nan        nan        nan\n",
      "        nan        nan        nan        nan        nan        nan\n",
      " 0.3111714  0.33132402 0.34072575 0.33836182 0.32669097 0.32669307\n",
      " 0.31060212 0.30910226 0.30445898 0.31210024 0.32874774 0.34430556\n",
      " 0.3301827  0.32771651 0.32202051 0.30730602 0.31278651 0.31006557\n",
      " 0.31127038 0.34404386 0.34556991 0.34570368 0.34433267 0.35705482\n",
      " 0.34801225 0.35663403 0.3541264         nan        nan        nan\n",
      "        nan        nan        nan        nan        nan        nan\n",
      " 0.33391563 0.36088971 0.37349985 0.36388289 0.36466774 0.35947598\n",
      " 0.32876195 0.32887973 0.33267662 0.3215445  0.36223213 0.37435433\n",
      " 0.35679668 0.36147233 0.35672989 0.32986916 0.32406292 0.3226054\n",
      " 0.3726057  0.36339334 0.35574074 0.37021981 0.36468191 0.36761168\n",
      " 0.36125209 0.35951385 0.36181005        nan        nan        nan\n",
      "        nan        nan        nan        nan        nan        nan\n",
      " 0.38955137 0.38425712 0.36692271 0.35288946 0.35456164 0.34675057\n",
      " 0.32276949 0.31957843 0.3239866  0.39091679 0.37862705 0.35859788\n",
      " 0.35486697 0.35303978 0.34430014 0.32234293 0.32443235 0.32497432\n",
      " 0.32045728 0.33691969 0.35120937 0.34531884 0.33955341 0.35496666\n",
      " 0.35001981 0.36103156 0.35273457        nan        nan        nan\n",
      "        nan        nan        nan        nan        nan        nan\n",
      " 0.32834792 0.36215191 0.36726127 0.36515637 0.36646549 0.36027884\n",
      " 0.3200846  0.33468434 0.33435106 0.33325786 0.36247577 0.37241943\n",
      " 0.35761185 0.36295483 0.35611423 0.32780883 0.32213122 0.3233569\n",
      " 0.30791543 0.33090944 0.3464783  0.34690693 0.34550882 0.35163537\n",
      " 0.35308448 0.35224515 0.35427219        nan        nan        nan\n",
      "        nan        nan        nan        nan        nan        nan\n",
      " 0.32860498 0.36257999 0.37240437 0.36404761 0.36743477 0.35023346\n",
      " 0.32664416 0.32795702 0.32506616 0.32221564 0.35881647 0.36662819\n",
      " 0.36862688 0.36056159 0.3546471  0.32779031 0.32691958 0.32517808\n",
      " 0.3477962  0.36611649 0.35155382 0.37884185 0.37795819 0.36034964\n",
      " 0.36146244 0.37076291 0.35760958        nan        nan        nan\n",
      "        nan        nan        nan        nan        nan        nan\n",
      " 0.32830064 0.32237164 0.28877032 0.25413889 0.2426623  0.24749206\n",
      " 0.20528114 0.21177533 0.20536953 0.32510519 0.31184867 0.29277646\n",
      " 0.25839855 0.25296983 0.24482874 0.19610939 0.18933998 0.18730438\n",
      " 0.36658285 0.34380301 0.32433324 0.37274908 0.36073177 0.34262414\n",
      " 0.34946354 0.35393058 0.34476079        nan        nan        nan\n",
      "        nan        nan        nan        nan        nan        nan\n",
      " 0.27061381 0.25805006 0.24603712 0.22925964 0.22803088 0.22616844\n",
      " 0.17667971 0.17456702 0.18002728 0.27675026 0.26575142 0.24339233\n",
      " 0.2229187  0.21835462 0.21866384 0.18801537 0.1880708  0.19133716\n",
      " 0.36682778 0.36013866 0.3500627  0.37541999 0.37905725 0.36373124\n",
      " 0.36153374 0.35938003 0.35934411        nan        nan        nan\n",
      "        nan        nan        nan        nan        nan        nan\n",
      " 0.32652631 0.2966309  0.28616884 0.25116731 0.25984424 0.24750548\n",
      " 0.19786596 0.19461547 0.20134818 0.32803759 0.31142861 0.29590669\n",
      " 0.26496542 0.25394658 0.24493211 0.19463497 0.19221499 0.19657686\n",
      " 0.34660449 0.35790828 0.34981075 0.37780968 0.36991129 0.36543918\n",
      " 0.35605276 0.36428425 0.36057926        nan        nan        nan\n",
      "        nan        nan        nan        nan        nan        nan\n",
      " 0.30988879 0.31554749 0.28528857 0.26834846 0.23937346 0.23389845\n",
      " 0.1922712  0.2100431  0.18979151 0.31055488 0.30911408 0.29115681\n",
      " 0.25735943 0.26261814 0.23437437 0.20018814 0.20460709 0.20298495\n",
      " 0.31396962 0.33914797 0.34522459 0.34579462 0.34380291 0.35511136\n",
      " 0.35265061 0.35401172 0.35449919        nan        nan        nan\n",
      "        nan        nan        nan        nan        nan        nan\n",
      " 0.32925505 0.36767343 0.37246327 0.35922224 0.36267012 0.35767373\n",
      " 0.32608988 0.33271525 0.32928951 0.32603024 0.35945049 0.37343723\n",
      " 0.3712346  0.35957136 0.36261654 0.33063336 0.33078376 0.32572325\n",
      " 0.37878275 0.36241501 0.36211229 0.37451942 0.36871745 0.37075121\n",
      " 0.35620449 0.35945141 0.36000869        nan        nan        nan\n",
      "        nan        nan        nan        nan        nan        nan\n",
      " 0.38008039 0.37753946 0.36855211 0.35846178 0.35866515 0.34741941\n",
      " 0.32473703 0.32133621 0.32124661 0.38768262 0.37383132 0.36947905\n",
      " 0.35877662 0.34867807 0.34397293 0.32268918 0.32367064 0.31662694\n",
      " 0.3196653  0.34076848 0.34966945 0.34796234 0.34546042 0.35680483\n",
      " 0.35471345 0.34935227 0.35563246        nan        nan        nan\n",
      "        nan        nan        nan        nan        nan        nan\n",
      " 0.33649699 0.36332069 0.36770896 0.36593083 0.35966189 0.35462598\n",
      " 0.33284209 0.33257339 0.33085186 0.33197867 0.36623065 0.37331292\n",
      " 0.3649249  0.36460678 0.35018647 0.32861086 0.33263636 0.31921128\n",
      " 0.30516595 0.33832903 0.34865384 0.33908157 0.34245604 0.35494367\n",
      " 0.35433489 0.35489737 0.34902289        nan        nan        nan\n",
      "        nan        nan        nan        nan        nan        nan\n",
      " 0.32966997 0.36041697 0.36757008 0.36625284 0.35758079 0.3549583\n",
      " 0.33530331 0.321391   0.33654006 0.3287584  0.35724439 0.3742182\n",
      " 0.36518257 0.36167341 0.35542526 0.32931146 0.33229577 0.32469561]\n",
      "  warnings.warn(\n"
     ]
    },
    {
     "data": {
      "text/html": [
       "<style>#sk-container-id-21 {color: black;}#sk-container-id-21 pre{padding: 0;}#sk-container-id-21 div.sk-toggleable {background-color: white;}#sk-container-id-21 label.sk-toggleable__label {cursor: pointer;display: block;width: 100%;margin-bottom: 0;padding: 0.3em;box-sizing: border-box;text-align: center;}#sk-container-id-21 label.sk-toggleable__label-arrow:before {content: \"▸\";float: left;margin-right: 0.25em;color: #696969;}#sk-container-id-21 label.sk-toggleable__label-arrow:hover:before {color: black;}#sk-container-id-21 div.sk-estimator:hover label.sk-toggleable__label-arrow:before {color: black;}#sk-container-id-21 div.sk-toggleable__content {max-height: 0;max-width: 0;overflow: hidden;text-align: left;background-color: #f0f8ff;}#sk-container-id-21 div.sk-toggleable__content pre {margin: 0.2em;color: black;border-radius: 0.25em;background-color: #f0f8ff;}#sk-container-id-21 input.sk-toggleable__control:checked~div.sk-toggleable__content {max-height: 200px;max-width: 100%;overflow: auto;}#sk-container-id-21 input.sk-toggleable__control:checked~label.sk-toggleable__label-arrow:before {content: \"▾\";}#sk-container-id-21 div.sk-estimator input.sk-toggleable__control:checked~label.sk-toggleable__label {background-color: #d4ebff;}#sk-container-id-21 div.sk-label input.sk-toggleable__control:checked~label.sk-toggleable__label {background-color: #d4ebff;}#sk-container-id-21 input.sk-hidden--visually {border: 0;clip: rect(1px 1px 1px 1px);clip: rect(1px, 1px, 1px, 1px);height: 1px;margin: -1px;overflow: hidden;padding: 0;position: absolute;width: 1px;}#sk-container-id-21 div.sk-estimator {font-family: monospace;background-color: #f0f8ff;border: 1px dotted black;border-radius: 0.25em;box-sizing: border-box;margin-bottom: 0.5em;}#sk-container-id-21 div.sk-estimator:hover {background-color: #d4ebff;}#sk-container-id-21 div.sk-parallel-item::after {content: \"\";width: 100%;border-bottom: 1px solid gray;flex-grow: 1;}#sk-container-id-21 div.sk-label:hover label.sk-toggleable__label {background-color: #d4ebff;}#sk-container-id-21 div.sk-serial::before {content: \"\";position: absolute;border-left: 1px solid gray;box-sizing: border-box;top: 0;bottom: 0;left: 50%;z-index: 0;}#sk-container-id-21 div.sk-serial {display: flex;flex-direction: column;align-items: center;background-color: white;padding-right: 0.2em;padding-left: 0.2em;position: relative;}#sk-container-id-21 div.sk-item {position: relative;z-index: 1;}#sk-container-id-21 div.sk-parallel {display: flex;align-items: stretch;justify-content: center;background-color: white;position: relative;}#sk-container-id-21 div.sk-item::before, #sk-container-id-21 div.sk-parallel-item::before {content: \"\";position: absolute;border-left: 1px solid gray;box-sizing: border-box;top: 0;bottom: 0;left: 50%;z-index: -1;}#sk-container-id-21 div.sk-parallel-item {display: flex;flex-direction: column;z-index: 1;position: relative;background-color: white;}#sk-container-id-21 div.sk-parallel-item:first-child::after {align-self: flex-end;width: 50%;}#sk-container-id-21 div.sk-parallel-item:last-child::after {align-self: flex-start;width: 50%;}#sk-container-id-21 div.sk-parallel-item:only-child::after {width: 0;}#sk-container-id-21 div.sk-dashed-wrapped {border: 1px dashed gray;margin: 0 0.4em 0.5em 0.4em;box-sizing: border-box;padding-bottom: 0.4em;background-color: white;}#sk-container-id-21 div.sk-label label {font-family: monospace;font-weight: bold;display: inline-block;line-height: 1.2em;}#sk-container-id-21 div.sk-label-container {text-align: center;}#sk-container-id-21 div.sk-container {/* jupyter's `normalize.less` sets `[hidden] { display: none; }` but bootstrap.min.css set `[hidden] { display: none !important; }` so we also need the `!important` here to be able to override the default hidden behavior on the sphinx rendered scikit-learn.org. See: https://github.com/scikit-learn/scikit-learn/issues/21755 */display: inline-block !important;position: relative;}#sk-container-id-21 div.sk-text-repr-fallback {display: none;}</style><div id=\"sk-container-id-21\" class=\"sk-top-container\"><div class=\"sk-text-repr-fallback\"><pre>GridSearchCV(cv=5, estimator=RandomForestRegressor(),\n",
       "             param_grid={&#x27;criterion&#x27;: [&#x27;poisson&#x27;, &#x27;friedman_mse&#x27;,\n",
       "                                       &#x27;absolute_error&#x27;, &#x27;squared_error&#x27;],\n",
       "                         &#x27;max_depth&#x27;: [None, 10, 20, 30],\n",
       "                         &#x27;max_features&#x27;: [None, &#x27;auto&#x27;, &#x27;sqrt&#x27;, &#x27;log2&#x27;],\n",
       "                         &#x27;min_samples_leaf&#x27;: [1, 2, 4],\n",
       "                         &#x27;min_samples_split&#x27;: [2, 5, 10]})</pre><b>In a Jupyter environment, please rerun this cell to show the HTML representation or trust the notebook. <br />On GitHub, the HTML representation is unable to render, please try loading this page with nbviewer.org.</b></div><div class=\"sk-container\" hidden><div class=\"sk-item sk-dashed-wrapped\"><div class=\"sk-label-container\"><div class=\"sk-label sk-toggleable\"><input class=\"sk-toggleable__control sk-hidden--visually\" id=\"sk-estimator-id-35\" type=\"checkbox\" ><label for=\"sk-estimator-id-35\" class=\"sk-toggleable__label sk-toggleable__label-arrow\">GridSearchCV</label><div class=\"sk-toggleable__content\"><pre>GridSearchCV(cv=5, estimator=RandomForestRegressor(),\n",
       "             param_grid={&#x27;criterion&#x27;: [&#x27;poisson&#x27;, &#x27;friedman_mse&#x27;,\n",
       "                                       &#x27;absolute_error&#x27;, &#x27;squared_error&#x27;],\n",
       "                         &#x27;max_depth&#x27;: [None, 10, 20, 30],\n",
       "                         &#x27;max_features&#x27;: [None, &#x27;auto&#x27;, &#x27;sqrt&#x27;, &#x27;log2&#x27;],\n",
       "                         &#x27;min_samples_leaf&#x27;: [1, 2, 4],\n",
       "                         &#x27;min_samples_split&#x27;: [2, 5, 10]})</pre></div></div></div><div class=\"sk-parallel\"><div class=\"sk-parallel-item\"><div class=\"sk-item\"><div class=\"sk-label-container\"><div class=\"sk-label sk-toggleable\"><input class=\"sk-toggleable__control sk-hidden--visually\" id=\"sk-estimator-id-36\" type=\"checkbox\" ><label for=\"sk-estimator-id-36\" class=\"sk-toggleable__label sk-toggleable__label-arrow\">estimator: RandomForestRegressor</label><div class=\"sk-toggleable__content\"><pre>RandomForestRegressor()</pre></div></div></div><div class=\"sk-serial\"><div class=\"sk-item\"><div class=\"sk-estimator sk-toggleable\"><input class=\"sk-toggleable__control sk-hidden--visually\" id=\"sk-estimator-id-37\" type=\"checkbox\" ><label for=\"sk-estimator-id-37\" class=\"sk-toggleable__label sk-toggleable__label-arrow\">RandomForestRegressor</label><div class=\"sk-toggleable__content\"><pre>RandomForestRegressor()</pre></div></div></div></div></div></div></div></div></div></div>"
      ],
      "text/plain": [
       "GridSearchCV(cv=5, estimator=RandomForestRegressor(),\n",
       "             param_grid={'criterion': ['poisson', 'friedman_mse',\n",
       "                                       'absolute_error', 'squared_error'],\n",
       "                         'max_depth': [None, 10, 20, 30],\n",
       "                         'max_features': [None, 'auto', 'sqrt', 'log2'],\n",
       "                         'min_samples_leaf': [1, 2, 4],\n",
       "                         'min_samples_split': [2, 5, 10]})"
      ]
     },
     "execution_count": 335,
     "metadata": {},
     "output_type": "execute_result"
    }
   ],
   "source": [
    "#Instancio el modelo\n",
    "rf = RandomForestRegressor()\n",
    "\n",
    "# Le pasamos la grilla que creamos\n",
    "model = GridSearchCV(rf, param_grid=param_grid, cv=5) \n",
    "\n",
    "# Entrenamos\n",
    "model.fit(X_train, y_train)"
   ]
  },
  {
   "cell_type": "code",
   "execution_count": 336,
   "metadata": {},
   "outputs": [
    {
     "name": "stdout",
     "output_type": "stream",
     "text": [
      "Mejores hiperparámetros: {'criterion': 'friedman_mse', 'max_depth': 10, 'max_features': 'log2', 'min_samples_leaf': 1, 'min_samples_split': 2}\n",
      "Mejor Score: 0.3909167939378974\n",
      "\n"
     ]
    }
   ],
   "source": [
    "print(\"Mejores hiperparámetros: \"+str(model.best_params_))\n",
    "print(\"Mejor Score: \"+str(model.best_score_)+'\\n')"
   ]
  },
  {
   "cell_type": "code",
   "execution_count": 48,
   "metadata": {},
   "outputs": [],
   "source": [
    "#Calculo de las predicciones de Train y Test\n",
    "y_train_pred = random_forest.predict(X_train)\n",
    "y_test_pred = random_forest.predict(X_test)"
   ]
  },
  {
   "cell_type": "markdown",
   "metadata": {},
   "source": [
    "* Evaluación del modelo"
   ]
  },
  {
   "cell_type": "code",
   "execution_count": 49,
   "metadata": {},
   "outputs": [
    {
     "name": "stdout",
     "output_type": "stream",
     "text": [
      " El rmse en train es 38.43326749879357\n",
      " El rmse en test es 67.42341173720833\n"
     ]
    }
   ],
   "source": [
    "#Calculo de métricas\n",
    "from sklearn.metrics import mean_squared_error\n",
    "\n",
    "#Calculo RMSE en Train\n",
    "rmse_train = mean_squared_error(y_train, y_train_pred)\n",
    "\n",
    "#Calculo RMSE en Test\n",
    "rmse_test = mean_squared_error(y_test, y_test_pred)\n",
    "\n",
    "print(\" El rmse en train es\", rmse_train)\n",
    "print(\" El rmse en test es\", rmse_test)"
   ]
  },
  {
   "cell_type": "code",
   "execution_count": 83,
   "metadata": {},
   "outputs": [
    {
     "data": {
      "text/plain": [
       "array([ 8.96860542,  9.42072114,  8.25369443, ...,  7.42431925,\n",
       "       13.71079478, 10.27151074])"
      ]
     },
     "execution_count": 83,
     "metadata": {},
     "output_type": "execute_result"
    }
   ],
   "source": [
    "random_forest.predict(X)"
   ]
  },
  {
   "cell_type": "code",
   "execution_count": 54,
   "metadata": {},
   "outputs": [],
   "source": [
    "# Obtén el predictor del modelo\n",
    "predictor = random_forest.predict(X_test)\n",
    "\n",
    "# # Guarda el predictor en un archivo\n",
    "with open('predictor.pkl', 'wb') as archivo:\n",
    "    pickle.dump(predictor, archivo)"
   ]
  },
  {
   "cell_type": "code",
   "execution_count": 42,
   "metadata": {},
   "outputs": [
    {
     "data": {
      "text/plain": [
       "<function matplotlib.pyplot.show(close=None, block=None)>"
      ]
     },
     "execution_count": 42,
     "metadata": {},
     "output_type": "execute_result"
    },
    {
     "data": {
      "image/png": "[encoded data removed]",
      "text/plain": [
       "<Figure size 640x480 with 1 Axes>"
      ]
     },
     "metadata": {},
     "output_type": "display_data"
    }
   ],
   "source": [
    "import seaborn as sns\n",
    "\n",
    "importances = random_forest.feature_importances_\n",
    "columns = X.columns\n",
    "sns.barplot(x = importances, y = columns, palette=\"bright\", saturation = 2.0)\n",
    "plt.show"
   ]
  }
 ],
 "metadata": {
  "kernelspec": {
   "display_name": "venv",
   "language": "python",
   "name": "python3"
  },
  "language_info": {
   "codemirror_mode": {
    "name": "ipython",
    "version": 3
   },
   "file_extension": ".py",
   "mimetype": "text/x-python",
   "name": "python",
   "nbconvert_exporter": "python",
   "pygments_lexer": "ipython3",
   "version": "3.11.4"
  },
  "orig_nbformat": 4
 },
 "nbformat": 4,
 "nbformat_minor": 2
}
