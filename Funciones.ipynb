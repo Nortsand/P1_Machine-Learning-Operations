{
 "cells": [
  {
   "cell_type": "code",
   "execution_count": 1,
   "metadata": {},
   "outputs": [],
   "source": [
    "import pandas as pd\n",
    "import pickle"
   ]
  },
  {
   "cell_type": "code",
   "execution_count": 12,
   "metadata": {},
   "outputs": [],
   "source": [
    "steam = pd.read_csv(\"data/steam.csv\")\n",
    "\n",
    "dic_genres = pd.read_csv(\"data/genre_to_id.csv\", index_col='genre').to_dict(\n",
    "    orient='dict')['id']\n",
    "\n",
    "dic_specs = pd.read_csv(\"data/pec_to_id.csv\", index_col='spec').to_dict(\n",
    "    orient='dict')['id']"
   ]
  },
  {
   "cell_type": "markdown",
   "metadata": {},
   "source": [
    "#### Función 1"
   ]
  },
  {
   "cell_type": "code",
   "execution_count": 13,
   "metadata": {},
   "outputs": [],
   "source": [
    "def genero(Año: str):\n",
    "    Año = int(Año)\n",
    "    df_year = steam[steam['year'] == Año]\n",
    "    genre_counts = {}\n",
    "\n",
    "    for genre_id in dic_genres.values():\n",
    "        # Inicializar la cuenta para cada género\n",
    "        genre_counts[genre_id] = 0\n",
    "\n",
    "        # Iterar sobre las filas del DataFrame del año especificado\n",
    "        for _, row in df_year.iterrows():\n",
    "            # Verificar si el ID del género está presente en la lista de IDs de géneros\n",
    "            if str(genre_id) in row['genre_id']:\n",
    "                # Incrementar la cuenta del género si está presente\n",
    "                genre_counts[genre_id] += 1\n",
    "\n",
    "    # Ordenar los géneros individuales según el número de repeticiones en orden descendente\n",
    "    sorted_genres = sorted(genre_counts.items(), key=lambda x: x[1], reverse=True)\n",
    "\n",
    "    # Tomar los 5 géneros individuales más repetidos\n",
    "    top_individual_genres = [genre_id for genre_id, _ in sorted_genres[:5]]\n",
    "\n",
    "    # Obtener los nombres de géneros a partir de los IDs utilizando el diccionario dic_genres\n",
    "    top_genres = [genre for genre, genre_id in dic_genres.items() if genre_id in top_individual_genres]\n",
    "\n",
    "    # Formatear el resultado\n",
    "    result = {'year': Año, 'top_genres': top_genres}\n",
    "\n",
    "    return result"
   ]
  },
  {
   "cell_type": "code",
   "execution_count": 14,
   "metadata": {},
   "outputs": [
    {
     "data": {
      "text/plain": [
       "{'year': 1984,\n",
       " 'top_genres': ['Racing', 'Audio Production', 'Indie', 'Education', 'Casual']}"
      ]
     },
     "execution_count": 14,
     "metadata": {},
     "output_type": "execute_result"
    }
   ],
   "source": [
    "genero(\"1984\")"
   ]
  },
  {
   "cell_type": "markdown",
   "metadata": {},
   "source": [
    "#### Función 2"
   ]
  },
  {
   "cell_type": "code",
   "execution_count": 11,
   "metadata": {},
   "outputs": [],
   "source": [
    "def juegos(Año: str):\n",
    "    # Convertir el año a entero para realizar la comparación\n",
    "    Año = int(Año)\n",
    "\n",
    "    # Filtrar el DataFrame para obtener los datos del año proporcionado\n",
    "    df_year = steam[steam['year'] == Año]\n",
    "\n",
    "    # Obtener la lista de juegos lanzados en el año\n",
    "    juegos_lanzados = df_year['app_name'].tolist()\n",
    "\n",
    "    # Formatear el resultado\n",
    "    resultado = {'año': Año, 'juegos lanzados': juegos_lanzados}\n",
    "\n",
    "    return resultado"
   ]
  },
  {
   "cell_type": "code",
   "execution_count": 12,
   "metadata": {},
   "outputs": [
    {
     "data": {
      "text/plain": [
       "{'año': 1996,\n",
       " 'juegos lanzados': ['Final DOOM',\n",
       "  'I Have No Mouth, and I Must Scream',\n",
       "  \"YOU DON'T KNOW JACK SPORTS\",\n",
       "  \"YOU DON'T KNOW JACK Vol. 2\",\n",
       "  'Harvester',\n",
       "  \"Putt-Putt® and Pep's Balloon-o-Rama\",\n",
       "  \"Freddi Fish and Luther's Maze Madness\",\n",
       "  \"Pajama Sam: No Need to Hide When It's Dark Outside\",\n",
       "  'Realms of the Haunting',\n",
       "  'Eradicator',\n",
       "  'Normality',\n",
       "  'Phantasmagoria 2: A Puzzle of Flesh',\n",
       "  'Broken Sword 1: Original Version',\n",
       "  'Spycraft: The Great Game',\n",
       "  'Screamer 2',\n",
       "  'Star Control: Kessari Quadrant',\n",
       "  'Pray for Death',\n",
       "  'Conquest of the New World',\n",
       "  'Shattered Steel',\n",
       "  'Master of Orion 2',\n",
       "  'Master of Orion 1',\n",
       "  'Timelapse',\n",
       "  'Lords of the Realm II',\n",
       "  'Terra Nova: Strike Force Centauri',\n",
       "  'The Original Strife: Veteran Edition',\n",
       "  'Deadlock: Planetary Conquest',\n",
       "  'Tex Murphy: The Pandora Directive',\n",
       "  'Stargunner',\n",
       "  \"Putt-Putt® and Pep's Dog on a Stick\",\n",
       "  \"Freddi Fish and Luther's Water Worries\",\n",
       "  'Freddi Fish 2: The Case of the Haunted Schoolhouse',\n",
       "  'Death Rally (Classic)',\n",
       "  'Earthworm Jim 2',\n",
       "  'HeXen: Deathkings of the Dark Citadel']}"
      ]
     },
     "execution_count": 12,
     "metadata": {},
     "output_type": "execute_result"
    }
   ],
   "source": [
    "juegos(\"1996\")"
   ]
  },
  {
   "cell_type": "markdown",
   "metadata": {},
   "source": [
    "#### Función 3"
   ]
  },
  {
   "cell_type": "code",
   "execution_count": 13,
   "metadata": {},
   "outputs": [],
   "source": [
    "def specs(Año: str):\n",
    "    Año = int(Año)\n",
    "    df_year = steam[steam['year'] == Año]\n",
    "    spec_counts = {}\n",
    "\n",
    "    for spec_id in dic_specs.values():\n",
    "        # Inicializar la cuenta para cada género\n",
    "        spec_counts[spec_id] = 0\n",
    "\n",
    "        # Iterar sobre las filas del DataFrame del año especificado\n",
    "        for _, row in df_year.iterrows():\n",
    "            # Verificar si el ID del género está presente en la lista de IDs de géneros\n",
    "            if str(spec_id) in row['spec_id']:\n",
    "                # Incrementar la cuenta del género si está presente\n",
    "                spec_counts[spec_id] += 1\n",
    "\n",
    "     # Ordenar los géneros individuales según el número de repeticiones en orden descendente\n",
    "    sorted_specs = sorted(spec_counts.items(), key=lambda x: x[1], reverse=True)\n",
    "\n",
    "    # Tomar los 5 géneros individuales más repetidos\n",
    "    top_individual_specs = [spec_id for spec_id, _ in sorted_specs[:5]]\n",
    "\n",
    "    # Obtener los nombres de géneros a partir de los IDs utilizando el diccionario dic_genres\n",
    "    top_specs = [spec for spec, spec_id in dic_specs.items() if spec_id in top_individual_specs]\n",
    "\n",
    "    # Formatear el resultado\n",
    "    result = {'year': Año, 'top_specs': top_specs}\n",
    "\n",
    "    return result"
   ]
  },
  {
   "cell_type": "code",
   "execution_count": 14,
   "metadata": {},
   "outputs": [
    {
     "data": {
      "text/plain": [
       "{'year': 2015,\n",
       " 'top_specs': ['Downloadable Content',\n",
       "  'Single-player',\n",
       "  'Mods (require HL2)',\n",
       "  'Steam Achievements',\n",
       "  'Steam Trading Cards']}"
      ]
     },
     "execution_count": 14,
     "metadata": {},
     "output_type": "execute_result"
    }
   ],
   "source": [
    "specs(\"2015\")"
   ]
  },
  {
   "cell_type": "markdown",
   "metadata": {},
   "source": [
    "#### Función 4"
   ]
  },
  {
   "cell_type": "code",
   "execution_count": 23,
   "metadata": {},
   "outputs": [],
   "source": [
    "def earlyacces(Año: str):\n",
    "    # Convertir el año a entero para realizar la comparación\n",
    "    Año = int(Año)\n",
    "\n",
    "    # Filtrar el DataFrame para obtener los datos del año proporcionado\n",
    "    df_year = steam[steam['year'] == Año]\n",
    "\n",
    "    # Contar la cantidad de juegos lanzados en el año con early access (valor True)\n",
    "    cantidad_early_access = int(df_year['early_access'].sum())\n",
    "\n",
    "    # Formatear el resultado\n",
    "    resultado = {'año': Año, 'early_acces': cantidad_early_access}\n",
    "    \n",
    "    return resultado"
   ]
  },
  {
   "cell_type": "code",
   "execution_count": 40,
   "metadata": {},
   "outputs": [
    {
     "data": {
      "text/plain": [
       "{'año': 2016, 'early_acces': 342}"
      ]
     },
     "execution_count": 40,
     "metadata": {},
     "output_type": "execute_result"
    }
   ],
   "source": [
    "earlyacces(\"2016\")"
   ]
  },
  {
   "cell_type": "markdown",
   "metadata": {},
   "source": [
    "#### Función 5"
   ]
  },
  {
   "cell_type": "code",
   "execution_count": 37,
   "metadata": {},
   "outputs": [],
   "source": [
    "def sentiment(Año: str):\n",
    "    # Convertir el año a entero para realizar la comparación\n",
    "    Año = int(Año)\n",
    "\n",
    "    # Filtrar el DataFrame para obtener los datos del año proporcionado\n",
    "    df_year = steam[steam['year'] == Año]\n",
    "\n",
    "    # Contar la cantidad de registros para cada categoría de sentimiento\n",
    "    sentiment_counts = {}\n",
    "    for sentiment_category in df_year['sentiment'].unique():\n",
    "        count = df_year[df_year['sentiment'] == sentiment_category].shape[0]\n",
    "        sentiment_counts[sentiment_category] = count\n",
    "\n",
    "    # Formatear el resultado\n",
    "    resultado = {'año': Año, 'sentiment': sentiment_counts}\n",
    "\n",
    "    return resultado"
   ]
  },
  {
   "cell_type": "code",
   "execution_count": 38,
   "metadata": {},
   "outputs": [
    {
     "data": {
      "text/plain": [
       "{'año': 1999,\n",
       " 'sentiment': {'Mostly Positive': 6,\n",
       "  'Very Positive': 21,\n",
       "  'Positive': 3,\n",
       "  '6 user reviews': 1,\n",
       "  'Mixed': 7,\n",
       "  '4 user reviews': 1,\n",
       "  '5 user reviews': 2,\n",
       "  '8 user reviews': 1,\n",
       "  'Overwhelmingly Positive': 1}}"
      ]
     },
     "execution_count": 38,
     "metadata": {},
     "output_type": "execute_result"
    }
   ],
   "source": [
    "sentiment(\"1999\")"
   ]
  },
  {
   "cell_type": "markdown",
   "metadata": {},
   "source": [
    "#### Función 6"
   ]
  },
  {
   "cell_type": "code",
   "execution_count": 179,
   "metadata": {},
   "outputs": [],
   "source": [
    "def metascore(Año: str):\n",
    "    # Convertir el año a entero para realizar la comparación\n",
    "    Año = int(Año)\n",
    "\n",
    "    # Filtrar el DataFrame para obtener los datos del año proporcionado\n",
    "    df_year = steam[steam['year'] == Año]\n",
    "\n",
    "    # Ordenar los juegos según el metascore en orden descendente\n",
    "    top_5_juegos = df_year.nlargest(5, 'metascore')\n",
    "\n",
    "    # Obtener la lista de juegos con mayor metascore y su respectivo metascore\n",
    "    juegos_metascore = top_5_juegos[['app_name', 'metascore']].to_dict(orient='records')\n",
    "\n",
    "    # Formatear el resultado\n",
    "    resultado = {'año': Año, 'metascore': juegos_metascore}\n",
    "\n",
    "    return resultado\n"
   ]
  },
  {
   "cell_type": "code",
   "execution_count": 181,
   "metadata": {},
   "outputs": [
    {
     "data": {
      "text/plain": [
       "{'año': 2014,\n",
       " 'metascore': [{'app_name': 'Freespace 2', 'metascore': 91.0},\n",
       "  {'app_name': 'DARK SOULS™ II', 'metascore': 91.0},\n",
       "  {'app_name': 'Rise of Nations: Extended Edition', 'metascore': 89.0},\n",
       "  {'app_name': 'Descent 3', 'metascore': 89.0},\n",
       "  {'app_name': 'TowerFall Ascension', 'metascore': 87.0}]}"
      ]
     },
     "execution_count": 181,
     "metadata": {},
     "output_type": "execute_result"
    }
   ],
   "source": [
    "metascore(\"2014\")"
   ]
  },
  {
   "cell_type": "markdown",
   "metadata": {},
   "source": [
    "#### Función 7"
   ]
  },
  {
   "cell_type": "code",
   "execution_count": null,
   "metadata": {},
   "outputs": [],
   "source": [
    "def predicción(genero, earlyaccess, metascore):\n",
    "    # Cargar el modelo almacenado en el archivo \"predictor.pkl\"\n",
    "    with open('predictor.pkl', 'rb') as archivo:\n",
    "        model = pickle.load(archivo)\n",
    "\n",
    "    # Crear una instancia de MultiLabelBinarizer con la lista de todos los géneros únicos\n",
    "    mlb = MultiLabelBinarizer(classes=unique_genres)\n",
    "\n",
    "    # Aplicar transform para obtener la matriz binaria de géneros codificados\n",
    "    genero_encoded = mlb.transform([genero])\n",
    "\n",
    "    # Crear un DataFrame con los géneros codificados\n",
    "    genero_df = pd.DataFrame(genero_encoded, columns=mlb.classes_)\n",
    "\n",
    "    # Rellenar con ceros para asegurarse de que el DataFrame tenga todas las columnas esperadas por el modelo\n",
    "    for col in mlb.classes_:\n",
    "        if col not in genero_df.columns:\n",
    "            genero_df[col] = 0\n",
    "\n",
    "    # Realizar la predicción utilizando el modelo y los valores de earlyaccess y metascore\n",
    "    # Asumiendo que las características del modelo son 'early_access', 'metascore', y las columnas one-hot del género\n",
    "    input_features = ['early_access', 'metascore'] + list(mlb.classes_)\n",
    "    input_data = pd.DataFrame([[earlyaccess, metascore] + genero_df.values.tolist()[0]], columns=input_features)\n",
    "    price_prediction = model.predict(input_data)[0]\n",
    "\n",
    "    # Calcular el RMSE (si es posible obtener los valores reales para comparar con las predicciones)\n",
    "    # Si tienes un conjunto de datos de prueba con los valores reales, puedes calcular el RMSE aquí\n",
    "\n",
    "    # Devolver el resultado en un diccionario\n",
    "    result = {'predict_price': price_prediction, 'rmse': None}\n",
    "    return result"
   ]
  }
 ],
 "metadata": {
  "kernelspec": {
   "display_name": "venv",
   "language": "python",
   "name": "python3"
  },
  "language_info": {
   "codemirror_mode": {
    "name": "ipython",
    "version": 3
   },
   "file_extension": ".py",
   "mimetype": "text/x-python",
   "name": "python",
   "nbconvert_exporter": "python",
   "pygments_lexer": "ipython3",
   "version": "3.11.4"
  },
  "orig_nbformat": 4
 },
 "nbformat": 4,
 "nbformat_minor": 2
}
